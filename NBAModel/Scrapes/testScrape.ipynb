{
 "cells": [
  {
   "cell_type": "code",
   "execution_count": 25,
   "metadata": {},
   "outputs": [],
   "source": [
    "import requests\n",
    "import bs4\n",
    "from bs4 import BeautifulSoup\n",
    "import re\n",
    "import math\n",
    "import csv\n",
    "from csv import writer\n",
    "import concurrent.futures\n",
    "import random"
   ]
  },
  {
   "cell_type": "code",
   "execution_count": 39,
   "metadata": {},
   "outputs": [
    {
     "name": "stdout",
     "output_type": "stream",
     "text": [
      "Proxies: 16\n"
     ]
    }
   ],
   "source": [
    "proxylist =[]\n",
    "with open('working_proxies.csv', 'r') as f:\n",
    "    reader = csv.reader(f)\n",
    "    for row in reader:\n",
    "        proxylist.append(row[0])\n",
    "print(f'Proxies: {len(proxylist)}')"
   ]
  },
  {
   "cell_type": "code",
   "execution_count": 104,
   "metadata": {},
   "outputs": [],
   "source": [
    "teamID_dict = {\n",
    "    \"Atlanta Hawks\": \"ATL\",\n",
    "    \"Boston Celtics\": \"BOS\",\n",
    "    \"Brooklyn Nets\": \"BKN\",\n",
    "    \"Charlotte Hornets\": \"CHA\",\n",
    "    \"Chicago Bulls\": \"CHI\",\n",
    "    \"Cleveland Cavaliers\": \"CLE\",\n",
    "    \"Dallas Mavericks\": \"DAL\",\n",
    "    \"Denver Nuggets\": \"DEN\",\n",
    "    \"Detroit Pistons\": \"DET\",\n",
    "    \"Golden State Warriors\": \"GSW\",\n",
    "    \"Houston Rockets\": \"HOU\",\n",
    "    \"Indiana Pacers\": \"IND\",\n",
    "    \"Los Angeles Clippers\": \"LAC\",\n",
    "    \"Los Angeles Lakers\": \"LAL\",\n",
    "    \"Memphis Grizzlies\": \"MEM\",\n",
    "    \"Miami Heat\": \"MIA\",\n",
    "    \"Milwaukee Bucks\": \"MIL\",\n",
    "    \"Minnesota Timberwolves\": \"MIN\",\n",
    "    \"New Orleans Pelicans\": \"NOP\",\n",
    "    \"New York Knicks\": \"NYK\",\n",
    "    \"Oklahoma City Thunder\": \"OKC\",\n",
    "    \"Orlando Magic\": \"ORL\",\n",
    "    \"Philadelphia 76ers\": \"PHI\",\n",
    "    \"Phoenix Suns\": \"PHX\",\n",
    "    \"Portland Trail Blazers\": \"POR\",\n",
    "    \"Sacramento Kings\": \"SAC\",\n",
    "    \"San Antonio Spurs\": \"SAS\",\n",
    "    \"Toronto Raptors\": \"TOR\",\n",
    "    \"Utah Jazz\": \"UTA\",\n",
    "    \"Washington Wizards\": \"WAS\"\n",
    "}"
   ]
  },
  {
   "cell_type": "code",
   "execution_count": 105,
   "metadata": {},
   "outputs": [],
   "source": [
    "#initalize csv\n",
    "head = ['date', 'homeTeam', 'homeTeam_id', 'homeTeam_points_total', 'homeTeam_points_q1', 'homeTeam_points_q2', 'homeTeam_points_q3', 'homeTeam_points_q4',\n",
    "        'homeTeam_points_1OT', 'homeTeam_points_2OT', 'homeTeam_points_3OT', 'homeTeam_points_4OT', \n",
    "        'homeTeam_FG', 'homeTeam_3P', 'homeTeam_O_Reb', 'homeTeam_D_Reb', 'homeTeam_Total_Reb', 'homeTeam_Ast', 'homeTeam_Stl', 'homeTeam_Blk', \n",
    "        'homeTeam_TO', 'homeTeam_PF', 'awayTeam', 'awayTeam_id', 'awayTeam_points_total', 'awayTeam_points_q1', 'awayTeam_points_q2', 'awayTeam_points_q3', \n",
    "        'awayTeam_points_q4', 'awayTeam_points_1OT', 'awayTeam_points_2OT', 'awayTeam_points_3OT', 'awayTeam_points_4OT', 'awayTeam_FG', 'awayTeam_3P', \n",
    "        'awayTeam_O_Reb', 'awayTeam_D_Reb', 'awayTeam_Total_Reb', 'awayTeam_Ast', 'awayTeam_Stl', 'awayTeam_Blk', 'awayTeam_TO', 'awayTeam_PF', 'winner']\n",
    "\n",
    "with open('nbaDatabase.csv', 'w', encoding='UTF8', newline='') as nbaDatabase:\n",
    "    writer = csv.writer(nbaDatabase)\n",
    "    writer.writerow(head)"
   ]
  },
  {
   "cell_type": "code",
   "execution_count": 106,
   "metadata": {},
   "outputs": [
    {
     "name": "stdout",
     "output_type": "stream",
     "text": [
      "<Response [200]>\n"
     ]
    }
   ],
   "source": [
    "url = f'https://www.landofbasketball.com/box_scores/2021/1117CHIPOR.htm'\n",
    "payload = \"\"\n",
    "headers = {\n",
    "    \"User-Agent\":'Mozilla/5.0 (Windows NT 10.0; Win64; x64) AppleWebKit/537.36 (KHTML, like Gecko) Chrome/114.0.0.0 Safari/537.36'\n",
    "\n",
    "}\n",
    "proxy = random.choice(proxylist)\n",
    "response = requests.request(\"GET\", url, data=payload, headers=headers, proxies={'http': f\"http://{proxy}, 'https:'https/{proxy}\"})\n",
    "\n",
    "print(response)\n",
    "#soup\n",
    "soup = BeautifulSoup(response.content, 'html.parser')\n",
    "\n",
    "#initialize variables\n",
    "date = None\n",
    "awayTeam = None\n",
    "homeTeam = None\n",
    "awayTeam_id = None\n",
    "homeTeam_id = None\n",
    "awayTeam_points_total = None\n",
    "homeTeam_points_total = None\n",
    "awayTeam_points_q1 = None\n",
    "homeTeam_points_q1 = None\n",
    "awayTeam_points_q2 = None\n",
    "homeTeam_points_q2 = None\n",
    "awayTeam_points_q3 = None\n",
    "homeTeam_points_q3 = None\n",
    "awayTeam_points_q4 = None\n",
    "homeTeam_points_q4 = None\n",
    "awayTeam_points_1OT = 0\n",
    "homeTeam_points_1OT = 0\n",
    "awayTeam_points_2OT = 0\n",
    "homeTeam_points_2OT = 0\n",
    "awayTeam_points_3OT = 0\n",
    "homeTeam_points_3OT = 0\n",
    "awayTeam_points_4OT = 0\n",
    "homeTeam_points_4OT = 0\n",
    "awayTeam_FG = None\n",
    "homeTeam_FG = None\n",
    "awayTeam_3P = None\n",
    "homeTeam_3P = None\n",
    "awayTeam_FT = None\n",
    "homeTeam_FT = None\n",
    "awayTeam_O_Reb = None\n",
    "homeTeam_O_Reb = None\n",
    "awayTeam_D_Reb = None\n",
    "homeTeam_D_reb = None\n",
    "awayTeam_Total_Reb = None\n",
    "homeTeam_Total_Reb = None\n",
    "awayTeam_Ast = None\n",
    "homeTeam_Ast = None\n",
    "awayTeam_Stl = None\n",
    "homeTeam_Stl = None\n",
    "awayTeam_Blk = None\n",
    "homeTeam_Blk = None\n",
    "awayTeam_TO = None\n",
    "homeTeam_TO = None\n",
    "awayTeam_PF = None\n",
    "homeTeam_PF = None\n",
    "overtimes = 0\n",
    "winner = None"
   ]
  },
  {
   "cell_type": "code",
   "execution_count": 107,
   "metadata": {},
   "outputs": [],
   "source": [
    "overtime_points = {\n",
    "    'homeTeam_points_1OT': 0,\n",
    "    'awayTeam_points_1OT': 0,\n",
    "    'homeTeam_points_2OT': 0,\n",
    "    'awayTeam_points_2OT': 0,\n",
    "    'homeTeam_points_3OT': 0,\n",
    "    'awayTeam_points_3OT': 0,\n",
    "    'homeTeam_points_4OT': 0,\n",
    "    'awayTeam_points_4OT': 0\n",
    "}"
   ]
  },
  {
   "cell_type": "code",
   "execution_count": 108,
   "metadata": {},
   "outputs": [
    {
     "name": "stdout",
     "output_type": "stream",
     "text": [
      "November 17, 2021\n"
     ]
    }
   ],
   "source": [
    "\n",
    "#scrape+clean date\n",
    "dateHome = soup.find('div', class_=re.compile('pad-b10 pad-l5'))\n",
    "dateHome = dateHome.text.strip().split('\\n')\n",
    "date = dateHome[0].split(': ')\n",
    "date = date[1]\n",
    "print(date)\n"
   ]
  },
  {
   "cell_type": "code",
   "execution_count": 109,
   "metadata": {},
   "outputs": [
    {
     "name": "stdout",
     "output_type": "stream",
     "text": [
      "Portland Trail Blazers\n"
     ]
    }
   ],
   "source": [
    "#scrape+clean homeTeam\n",
    "homeTeam = dateHome[1].split(': ')\n",
    "homeTeam = homeTeam[1]\n",
    "print(homeTeam)"
   ]
  },
  {
   "cell_type": "code",
   "execution_count": 110,
   "metadata": {},
   "outputs": [
    {
     "name": "stdout",
     "output_type": "stream",
     "text": [
      "['107', 'Chicago Bulls']\n",
      "['112', 'Portland Trail Blazers']\n"
     ]
    }
   ],
   "source": [
    "table = soup.find('table', class_=re.compile('size-11 a-left'))\n",
    "tableText = table.text.strip().split('\\n')\n",
    "for i in range(len(tableText)):\n",
    "    newI = tableText[i].replace('\\t', '')\n",
    "    tableText[i] = newI\n",
    "\n",
    "filtered_text = [item for item in tableText if item]\n",
    "filtered_text.pop(2)\n",
    "team1 = filtered_text[:2]\n",
    "team2 = filtered_text[2:]\n",
    "\n",
    "print(team1)\n",
    "print(team2)"
   ]
  },
  {
   "cell_type": "code",
   "execution_count": 111,
   "metadata": {},
   "outputs": [
    {
     "name": "stdout",
     "output_type": "stream",
     "text": [
      "112\n",
      "107\n"
     ]
    }
   ],
   "source": [
    "#scrape+clean awayTeam and point totals\n",
    "if homeTeam in team1:\n",
    "    homeTeam_points_total = team1[0]\n",
    "    awayTeam = team2[1]\n",
    "    awayTeam_points_total = team2[0]\n",
    "else:\n",
    "    homeTeam_points_total = team2[0]\n",
    "    awayTeam = team1[1]\n",
    "    awayTeam_points_total = team1[0]\n",
    "print(homeTeam_points_total)\n",
    "print(awayTeam_points_total)"
   ]
  },
  {
   "cell_type": "code",
   "execution_count": 112,
   "metadata": {},
   "outputs": [],
   "source": [
    "if 'OT' in homeTeam_points_total:\n",
    "    getOT = homeTeam_points_total.split(' ')\n",
    "    try:\n",
    "        overtimes = int(getOT[1].replace('(', '').replace(')', '').replace('O', '').replace('T', ''))\n",
    "    except:\n",
    "        overtimes = 1\n",
    "    print(overtimes)\n",
    "if 'OT' in awayTeam_points_total:\n",
    "    getOT = awayTeam_points_total.split(' ')\n",
    "    try:\n",
    "        overtimes = int(getOT[1].replace('(', '').replace(')', '').replace('O', '').replace('T', ''))\n",
    "    except:\n",
    "        overtimes = 1\n",
    "        "
   ]
  },
  {
   "cell_type": "code",
   "execution_count": 113,
   "metadata": {},
   "outputs": [
    {
     "name": "stdout",
     "output_type": "stream",
     "text": [
      "POR\n",
      "CHI\n"
     ]
    }
   ],
   "source": [
    "#extract team ids from dict\n",
    "homeTeam_id = teamID_dict[f'{homeTeam}']\n",
    "awayTeam_id = teamID_dict[f'{awayTeam}']\n",
    "print(homeTeam_id)\n",
    "print(awayTeam_id)"
   ]
  },
  {
   "cell_type": "code",
   "execution_count": 114,
   "metadata": {},
   "outputs": [
    {
     "name": "stdout",
     "output_type": "stream",
     "text": [
      "['CHI', '33', '30', '22', '22', '107']\n",
      "['POR', '24', '24', '33', '31', '112']\n",
      "['CHI', '33', '30', '22', '22']\n",
      "['POR', '24', '24', '33', '31']\n",
      "0\n",
      "0\n",
      "0\n",
      "0\n",
      "0\n",
      "0\n"
     ]
    }
   ],
   "source": [
    "#scrape + clean points per quarter\n",
    "quarterTable = soup.find('table', re.compile('by pad-y5 margen-b5'))\n",
    "quarterStats = quarterTable.find_all('td')\n",
    "qStatList = []\n",
    "\n",
    "\n",
    "for stat in quarterStats:\n",
    "    qStatList.append(stat.text.strip())\n",
    "team1qStats = qStatList[overtimes+6:overtimes+overtimes+12]\n",
    "team2qStats = qStatList[overtimes+overtimes+12:]\n",
    "if homeTeam_id in str(team1qStats[0]):\n",
    "    homeTeam_points_q1 = team1qStats[1]\n",
    "    homeTeam_points_q2 = team1qStats[2]\n",
    "    homeTeam_points_q3 = team1qStats[3]\n",
    "    homeTeam_points_q4 = team1qStats[4]\n",
    "    homeTeam_points_total = team1qStats[len(team1qStats)-1]\n",
    "    awayTeam_points_q1 = team2qStats[1]\n",
    "    awayTeam_points_q2 = team2qStats[2]\n",
    "    awayTeam_points_q3 = team2qStats[3]\n",
    "    awayTeam_points_q4 = team2qStats[4]\n",
    "    awayTeam_points_total = team2qStats[len(team2qStats)-1]\n",
    "if awayTeam_id in str(team1qStats[0]):\n",
    "    homeTeam_points_q1 = team2qStats[1]\n",
    "    homeTeam_points_q2 = team2qStats[2]\n",
    "    homeTeam_points_q3 = team2qStats[3]\n",
    "    homeTeam_points_q4 = team2qStats[4]\n",
    "    homeTeam_points_total = team2qStats[len(team2qStats)-1]\n",
    "    awayTeam_points_q1 = team1qStats[1]\n",
    "    awayTeam_points_q2 = team1qStats[2]\n",
    "    awayTeam_points_q3 = team1qStats[3]\n",
    "    awayTeam_points_q4 = team1qStats[4]\n",
    "    awayTeam_points_total = team1qStats[len(team1qStats)-1]\n",
    "\n",
    "\n",
    "print(team1qStats)\n",
    "print(team2qStats)\n",
    "\n",
    "team1qStats.pop()\n",
    "team2qStats.pop()\n",
    "\n",
    "print(team1qStats)\n",
    "print(team2qStats)\n",
    "\n",
    "try:\n",
    "    team1OTStats = team1qStats[5:]\n",
    "    team2OTStats = team2qStats[5:]\n",
    "\n",
    "    for i in range(len(team1OTStats)):\n",
    "        if homeTeam_id in str(team1qStats[0]):\n",
    "            overtime_points[f'homeTeam_points_{i+1}OT'] = team1OTStats[i]\n",
    "            overtime_points[f'awayTeam_points_{i+1}OT'] = team2OTStats[i]\n",
    "        if awayTeam_id in str(team1qStats):\n",
    "            overtime_points[f'homeTeam_points_{i+1}OT'] = team2OTStats[i]\n",
    "            overtime_points[f'awayTeam_points_{i+1}OT'] = team1OTStats[i]\n",
    "except:\n",
    "    pass\n",
    "\n",
    "awayTeam_points_1OT = overtime_points['awayTeam_points_1OT']\n",
    "homeTeam_points_1OT = overtime_points['homeTeam_points_1OT']\n",
    "awayTeam_points_2OT = overtime_points['awayTeam_points_2OT']\n",
    "homeTeam_points_2OT = overtime_points['homeTeam_points_2OT']\n",
    "awayTeam_points_3OT = overtime_points['awayTeam_points_3OT']\n",
    "homeTeam_points_3OT = overtime_points['homeTeam_points_3OT']\n",
    "awayTeam_points_4OT = overtime_points['awayTeam_points_4OT']\n",
    "homeTeam_points_4OT = overtime_points['awayTeam_points_4OT']\n",
    "\n",
    "print(awayTeam_points_1OT)\n",
    "print(homeTeam_points_1OT)\n",
    "print(awayTeam_points_2OT)\n",
    "print(homeTeam_points_2OT)\n",
    "print(awayTeam_points_3OT)\n",
    "print(homeTeam_points_3OT)"
   ]
  },
  {
   "cell_type": "code",
   "execution_count": 101,
   "metadata": {},
   "outputs": [],
   "source": [
    "#scrape + clean all other stats\n",
    "statTables = soup.find_all('div', class_=re.compile('clearfix clear pad-y5'))\n",
    "for i in range(len(statTables)):\n",
    "    team1 = statTables[i].find('h3', class_=re.compile('d-inline-block a-middle size-11 margen-t0 margen-b0 negri'))\n",
    "    if awayTeam in team1.text.strip():\n",
    "        awayTeamStats = statTables[i].find('tr', class_=re.compile('color-5 negri a-top'))\n",
    "        awayTeamStats = awayTeamStats.text.strip().split('\\n')\n",
    "        awayTeam_FG = awayTeamStats[3]\n",
    "        awayTeam_3P = awayTeamStats[4]\n",
    "        awayTeam_FT = awayTeamStats[5]\n",
    "        awayTeam_O_Reb = awayTeamStats[6]\n",
    "        awayTeam_D_Reb = awayTeamStats[7]\n",
    "        awayTeam_Total_Reb = awayTeamStats[8]\n",
    "        awayTeam_Ast = awayTeamStats[9]\n",
    "        awayTeam_Stl = awayTeamStats[10]\n",
    "        awayTeam_Blk = awayTeamStats[11]\n",
    "        awayTeam_TO = awayTeamStats[12]\n",
    "        awayTeam_PF = awayTeamStats[13]\n",
    "    if homeTeam in team1.text.strip():\n",
    "        homeTeamStats = statTables[i].find('tr', class_=re.compile('color-5 negri a-top'))\n",
    "        homeTeamStats = homeTeamStats.text.strip().split('\\n')\n",
    "        homeTeam_FG = homeTeamStats[3]\n",
    "        homeTeam_3P = homeTeamStats[4]\n",
    "        homeTeam_FT = homeTeamStats[5]\n",
    "        homeTeam_O_Reb = homeTeamStats[6]\n",
    "        homeTeam_D_Reb = homeTeamStats[7]\n",
    "        homeTeam_Total_Reb = homeTeamStats[8]\n",
    "        homeTeam_Ast = homeTeamStats[9]\n",
    "        homeTeam_Stl = homeTeamStats[10]\n",
    "        homeTeam_Blk = homeTeamStats[11]\n",
    "        homeTeam_TO = homeTeamStats[12]\n",
    "        homeTeam_PF = homeTeamStats[13]\n"
   ]
  },
  {
   "cell_type": "code",
   "execution_count": 102,
   "metadata": {},
   "outputs": [],
   "source": [
    "#extract winner\n",
    "home_points = int(re.search(r'\\d+', homeTeam_points_total).group())\n",
    "away_points = int(re.search(r'\\d+', awayTeam_points_total).group())\n",
    "if home_points > away_points:\n",
    "    winner = homeTeam\n",
    "elif away_points > home_points:\n",
    "    winner = awayTeam\n",
    "else:\n",
    "    winner = \"Draw\""
   ]
  },
  {
   "cell_type": "code",
   "execution_count": 103,
   "metadata": {},
   "outputs": [],
   "source": [
    "gameStats = [\n",
    "    [date, homeTeam, homeTeam_id, homeTeam_points_total, homeTeam_points_q1, homeTeam_points_q2, homeTeam_points_q3, homeTeam_points_q4, homeTeam_points_1OT, homeTeam_points_2OT, homeTeam_points_3OT, homeTeam_points_4OT,\n",
    "    homeTeam_FG, homeTeam_3P, homeTeam_O_Reb, homeTeam_D_Reb, homeTeam_Total_Reb, homeTeam_Ast, homeTeam_Stl, homeTeam_Blk, \n",
    "    homeTeam_TO, homeTeam_PF, awayTeam, awayTeam_id, awayTeam_points_total, awayTeam_points_q1, awayTeam_points_q2, awayTeam_points_q3,\n",
    "    awayTeam_points_q4, awayTeam_points_1OT, awayTeam_points_2OT, awayTeam_points_3OT,\n",
    "    awayTeam_points_4OT, awayTeam_FG, awayTeam_3P, awayTeam_O_Reb, awayTeam_D_Reb, awayTeam_Total_Reb, awayTeam_Ast, awayTeam_Stl, \n",
    "    awayTeam_Blk, awayTeam_TO, awayTeam_PF, winner],\n",
    "]\n",
    "\n",
    "with open('nbaDatabase.csv', 'a', encoding='UTF8', newline='') as nbaDatabase:\n",
    "    writer = csv.writer(nbaDatabase)      \n",
    "    writer.writerows(gameStats) "
   ]
  }
 ],
 "metadata": {
  "kernelspec": {
   "display_name": "nba",
   "language": "python",
   "name": "python3"
  },
  "language_info": {
   "codemirror_mode": {
    "name": "ipython",
    "version": 3
   },
   "file_extension": ".py",
   "mimetype": "text/x-python",
   "name": "python",
   "nbconvert_exporter": "python",
   "pygments_lexer": "ipython3",
   "version": "3.10.11"
  }
 },
 "nbformat": 4,
 "nbformat_minor": 2
}
