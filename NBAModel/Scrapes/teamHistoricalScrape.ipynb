{
 "cells": [
  {
   "cell_type": "code",
   "execution_count": 1,
   "metadata": {},
   "outputs": [],
   "source": [
    "import requests\n",
    "import bs4\n",
    "from bs4 import BeautifulSoup\n",
    "import re\n",
    "import math\n",
    "import csv\n",
    "from csv import writer\n",
    "import concurrent.futures\n",
    "import random\n",
    "\n",
    "from selenium import webdriver\n",
    "from selenium.webdriver.common.by import By"
   ]
  },
  {
   "cell_type": "code",
   "execution_count": null,
   "metadata": {},
   "outputs": [],
   "source": [
    "#scrape from freeproxy.world\n",
    "url = \"https://www.freeproxy.world/\"\n",
    "proxylist =[]\n",
    "#filter through all pages\n",
    "for i in range(1,75):\n",
    "    print(i)\n",
    "    try:\n",
    "        #filter to http proxy\n",
    "        querystring = {\"type\":\"http\",\"anonymity\":\"\",\"country\":\"\",\"speed\":\"\",\"port\":\"\",\"page\":f\"{i}\"}\n",
    "\n",
    "        payload = \"\"\n",
    "        headers = {\"User-Agent\": \"insomnia/8.4.5\"}\n",
    "\n",
    "        #site request\n",
    "        site = requests.request(\"GET\", url, data=payload, headers=headers, params=querystring)\n",
    "        soup = BeautifulSoup(site.content, 'html.parser')\n",
    "        trs = soup.find_all('tr')\n",
    "        for tr in trs:\n",
    "            try:\n",
    "                ip = tr.find('td',class_=re.compile('show-ip-div')).text.strip()\n",
    "                port = tr.find('a').text.strip()\n",
    "                proxylist.append(f'{ip}:{port}')\n",
    "            except:\n",
    "                pass\n",
    "    except:\n",
    "        pass\n",
    "print(len(proxylist))\n",
    "\n",
    "\n",
    "\n",
    "\n",
    "#scrape free proxies from proxyscrape.com\n",
    "headers = {\"User-Agent\": \"insomnia/8.4.5\"}\n",
    "#site request\n",
    "url = 'https://proxyscrape.com/free-proxy-list'\n",
    "site = requests.get(url,headers=headers)\n",
    "soup = BeautifulSoup(site.content, 'html.parser')\n",
    "#scrape http proxy download link\n",
    "divs = soup.find_all('div', class_=re.compile('itemcard downloadcard'))\n",
    "for div in divs:\n",
    "    h2 = div.find('h2')\n",
    "    try:\n",
    "        if(h2.text.strip()=='HTTP Proxies'):\n",
    "            a = div.find('a')\n",
    "            download = a['download_url']\n",
    "    except:\n",
    "        pass\n",
    "\n",
    "#get content of download link\n",
    "try:\n",
    "    site = requests.get(download,headers=headers)\n",
    "    soup = BeautifulSoup(site.content, 'html.parser')\n",
    "    #add proxies to testlist\n",
    "    tempproxylist = soup.text.strip().split('\\r')\n",
    "    for proxy in tempproxylist:\n",
    "        proxylist.append(proxy)\n",
    "\n",
    "    print(len(proxylist))\n",
    "except:\n",
    "    pass    \n",
    "#scrape proxies from free-proxy-list.net\n",
    "url = 'https://free-proxy-list.net/'\n",
    "#site + soup\n",
    "site = requests.get(url, headers=headers)\n",
    "soup = BeautifulSoup(site.content, 'html.parser')\n",
    "#scrape table\n",
    "try:\n",
    "    table = soup.find('div', class_=re.compile('table-responsive'))\n",
    "    trlabels = table.find_all('tr')\n",
    "except:\n",
    "    pass\n",
    "#scrape proxies and add to test list\n",
    "try:\n",
    "    for i in trlabels:\n",
    "            tdlabels = i.find_all('td')\n",
    "            if(tdlabels[6].text.strip()=='yes'):\n",
    "                proxylist.append(tdlabels[0].text.strip())\n",
    "except:\n",
    "    pass\n",
    "print(len(proxylist))\n",
    "#scrape proxies from hidemy.io\n",
    "url = 'https://hidemy.io/en/proxy-list/'\n",
    "#site request + soup\n",
    "site = requests.get(url, headers=headers)\n",
    "soup = BeautifulSoup(site.content, 'html.parser')\n",
    "table = soup.find('div',class_=re.compile('table_block'))\n",
    "#scrape table\n",
    "trlabels = table.find_all('tr')\n",
    "#scrape proxies and add to test list\n",
    "for i in trlabels:\n",
    "    tdlabels = i.find_all('td')\n",
    "    try:\n",
    "\n",
    "        if(tdlabels[4].text.strip()=='HTTP'):\n",
    "            proxylist.append(tdlabels[0].text.strip())\n",
    "    except:\n",
    "        pass\n",
    "print(len(proxylist))\n",
    "\n",
    "\n",
    "\n",
    "\n",
    "\n",
    "#test proxies\n",
    "workingProxies = []\n",
    "def extract(proxy):\n",
    "    works = False\n",
    "    try:\n",
    "        r = requests.get('https://www.whatismybrowser.com/detect/what-is-my-ip-address', proxies={'http':proxy, 'https':proxy}, timeout=2)\n",
    "        soup = BeautifulSoup(r.content, 'html.parser')\n",
    "        div = soup.find('div', class_='detected_result')\n",
    "        ip = div.find('div').text.strip()\n",
    "        print(f'{r}, {ip}')\n",
    "        works = True\n",
    "        workingProxies.append(proxy)\n",
    "        with open('working_proxies.csv', 'w', encoding='UTF8', newline='') as workingProx:\n",
    "            writer = csv.writer(workingProx)\n",
    "            for k in workingProxies:\n",
    "                writer.writerow([k])\n",
    "\n",
    "    except:\n",
    "        print(proxy)\n",
    "    return works\n",
    "\n",
    "#excecute test faster\n",
    "with concurrent.futures.ThreadPoolExecutor() as executor:\n",
    "    executor.map(extract, list(set(proxylist)))"
   ]
  },
  {
   "cell_type": "code",
   "execution_count": 5,
   "metadata": {},
   "outputs": [
    {
     "name": "stdout",
     "output_type": "stream",
     "text": [
      "Proxies: 16\n"
     ]
    }
   ],
   "source": [
    "proxylist =[]\n",
    "with open('working_proxies.csv', 'r') as f:\n",
    "    reader = csv.reader(f)\n",
    "    for row in reader:\n",
    "        proxylist.append(row[0])\n",
    "print(f'Proxies: {len(proxylist)}')"
   ]
  },
  {
   "cell_type": "code",
   "execution_count": 3,
   "metadata": {},
   "outputs": [
    {
     "name": "stdout",
     "output_type": "stream",
     "text": [
      "Total records: 30\n"
     ]
    }
   ],
   "source": [
    "driver = webdriver.Chrome()  # Or any other browser driver\n",
    "driver.get('https://www.nba.com/games?date=2024-11-04')\n",
    "\n",
    "recordsFinal =[]\n",
    "records = driver.find_elements(By.CLASS_NAME, 'MatchupCardTeamRecord_record__20YHe')\n",
    "for record in records:\n",
    "    recordsFinal.append(record)\n",
    "print(f'Total records: {len(recordsFinal)}')\n",
    "\n",
    "\n",
    "driver.quit()"
   ]
  },
  {
   "cell_type": "code",
   "execution_count": 8,
   "metadata": {},
   "outputs": [],
   "source": [
    "awayTeam = None\n",
    "homeTeam = None\n",
    "awayTeam_record = None\n",
    "homeTeam_record = None\n",
    "awayTeam_points_total = None\n",
    "homeTeam_points_total = None\n",
    "awayTeam_points_q1 = None\n",
    "homeTeam_points_q1 = None\n",
    "awayTeam_points_q2 = None\n",
    "homeTeam_points_q2 = None\n",
    "awayTeam_points_q3 = None\n",
    "homeTeam_points_q3 = None\n",
    "awayTeam_points_q4 = None\n",
    "homeTeam_points_q4 = None\n",
    "awayTeam_PITP = None\n",
    "homeTeam_PITP = None\n",
    "awayTeam_FB_PTS = None\n",
    "homeTeam_FB_PTS = None\n",
    "awayTeam_BIG_LD = None\n",
    "homeTeam_BIG_LD = None\n",
    "awayTeam_BPTS = None\n",
    "homeTeam_BPTS = None\n",
    "awayTeam_TREB = None\n",
    "homeTeam_TREB = None\n",
    "awayTeam_TOV = None\n",
    "homeTeam_TOV = None\n",
    "awayTeam_TTOV = None\n",
    "homeTeam_TTOV = None\n",
    "awayTeam_POT = None\n",
    "homeTeam_POT = None"
   ]
  },
  {
   "cell_type": "code",
   "execution_count": 6,
   "metadata": {},
   "outputs": [
    {
     "name": "stdout",
     "output_type": "stream",
     "text": [
      "<Response [200]>\n"
     ]
    }
   ],
   "source": [
    "url = 'https://www.nba.com/games?date=2024-11-04'\n",
    "\n",
    "payload = \"\"\n",
    "headers = {\n",
    "    \"cookie\": \"_tapology_mma_session=%252BnGrxOO8u60FBkwjnPf5U9cMUlW%252B%252F76dZtFNqnrNzBiOvQybvXmEnNM%252Fu1%252BEvOx0w4zOYLO6aIlNCfl8UnsrtSYiMl2eRJHAyiBcnd2iP0A0MCwFxGErsRcK9jbT%252BixWWetj2aX%252FvsQSBYea%252Fe73CRDIdSn95lPxaMgzhrkIGIY2KzurUSeLm0hoWxHQyq01nb7UJfYbF53mL1vhZO1yAYpprixBeuhXy70HLYlQemANkpVvl7tT0Z5DTe68LgVyn8qXKLn1hOvclfkBIfaVwBd1HyV5eIRqOMicbIQ%253D--%252BzoeexZ3ARMoGYGy--kqTFUNtOGR74GqxibycT1g%253D%253D\",\n",
    "    \"User-Agent\":'Mozilla/5.0 (Windows NT 10.0; Win64; x64) AppleWebKit/537.36 (KHTML, like Gecko) Chrome/114.0.0.0 Safari/537.36'\n",
    "\n",
    "}\n",
    "proxy = random.choice(proxylist)\n",
    "response = requests.request(\"GET\", url, data=payload, headers=headers, proxies={'http': f\"http://{proxy}, 'https:'https/{proxy}\"})\n",
    "print(response)"
   ]
  },
  {
   "cell_type": "code",
   "execution_count": 7,
   "metadata": {},
   "outputs": [
    {
     "name": "stdout",
     "output_type": "stream",
     "text": [
      "<section class=\"GameCard_gcMain__q1lUW\"><a class=\"GameCard_gcm__SKtfh GameCardMatchup_gameCardMatchup__H0uPe\" href=\"/game/mil-vs-cle-0022400154\"><div class=\"GameCardMatchup_wrapper__uUdW8\"><article class=\"GameCardMatchup_article__Fsvx9\"><figure class=\"MatchupCardTeamLogo_base__WZl01 GameCardMatchup_matchupCardTeamLogo__ZqZXC\"><div class=\"TeamLogo_block__rSWmO\"><img alt=\" Logo\" class=\"TeamLogo_logo__PclAJ\" loading=\"lazy\" src=\"https://cdn.nba.com/logos/nba/1610612749/primary/L/logo.svg\" title=\" Logo\"/></div></figure><div class=\"MatchupCardTeamName_base__PBkuX\" data-team-id=\"1610612749\"><span class=\"MatchupCardTeamName_teamName__9YaBA\">Bucks</span></div><p class=\"MatchupCardTeamRecord_record__20YHe\">-</p></article><div class=\"GameCardMatchup_statusWrapper__TDbQz\"><div class=\"GameCardMatchup_matchupScoreCardWrapper__X50gw\"></div><div class=\"GameCardMatchup_gameCardMatchupStatusWrapper__8rQ8v\"><div><div class=\"GameCardMatchupStatusText_gcs__2yfjE\" data-game-status=\"3\" data-is-preseason=\"false\"><p class=\"GameCardMatchupStatusText_gcsText__PcQUX\" data-is-live=\"false\" data-testid=\"game-status\">FINAL</p></div></div><svg class=\"GameCardMatchup_awayWin__zD021\" height=\"12\" role=\"presentation\" viewbox=\"0 0 7 12\" width=\"7\" xmlns=\"http://www.w3.org/2000/svg\"><path d=\"M.5 6l6 5.5V.5z\" fill=\"currentColor\" fill-rule=\"nonzero\"></path></svg><svg class=\"GameCardMatchup_homeWin__5E_iM\" data-no-icon=\"right\" height=\"12\" role=\"presentation\" viewbox=\"0 0 7 12\" width=\"7\" xmlns=\"http://www.w3.org/2000/svg\"><path d=\"M.5 6l6 5.5V.5z\" fill=\"currentColor\" fill-rule=\"nonzero\"></path></svg></div><div class=\"GameCardMatchup_matchScorecardAlignRight__n20ov\"></div></div><article class=\"GameCardMatchup_article__Fsvx9\"><figure class=\"MatchupCardTeamLogo_base__WZl01 GameCardMatchup_matchupCardTeamLogo__ZqZXC\"><div class=\"TeamLogo_block__rSWmO\"><img alt=\" Logo\" class=\"TeamLogo_logo__PclAJ\" loading=\"lazy\" src=\"https://cdn.nba.com/logos/nba/1610612739/primary/L/logo.svg\" title=\" Logo\"/></div></figure><div class=\"MatchupCardTeamName_base__PBkuX\" data-team-id=\"1610612739\"><span class=\"MatchupCardTeamName_teamName__9YaBA\">Cavaliers</span></div><p class=\"MatchupCardTeamRecord_record__20YHe\">-</p></article></div></a><ul class=\"Tabs_tab__rnewb\" data-has-rounded-ctas=\"true\" data-show-border=\"true\"><li class=\"TabLink_tab__uKOPj\"><a class=\"Anchor_anchor__cSc3P TabLink_link__f_15h\" data-content=\"0022400154\" data-has-children=\"true\" data-has-more=\"false\" data-id=\"nba:games:watch:cta\" data-is-external=\"false\" data-premium=\"true\" data-section=\"games\" data-text=\"MIL @ CLE\" data-track=\"video\" href=\"/game/mil-vs-cle-0022400154?watchFullGame\"><svg data-no-icon=\"true\" fill=\"none\" height=\"16\" role=\"presentation\" viewbox=\"0 0 17 16\" width=\"17\" xmlns=\"http://www.w3.org/2000/svg\"><path d=\"M13.3335 7.13398C14.0002 7.51888 14.0002 8.48113 13.3335 8.86603L6.3335 12.9075C5.66683 13.2924 4.8335 12.8113 4.8335 12.0415L4.8335 3.95855C4.8335 3.18875 5.66683 2.70763 6.3335 3.09253L13.3335 7.13398Z\" fill=\"black\"></path></svg>Watch</a></li><li class=\"TabLink_tab__uKOPj\"><a class=\"Anchor_anchor__cSc3P TabLink_link__f_15h\" data-content=\"MIL @ CLE\" data-content-id=\"0022400154\" data-has-children=\"true\" data-has-more=\"false\" data-id=\"nba:games:main:box-score:cta\" data-is-external=\"false\" data-section=\"games\" data-text=\"BOX SCORE\" data-track=\"click\" data-type=\"cta\" href=\"/game/mil-vs-cle-0022400154/box-score#box-score\">Box score</a></li><li class=\"TabLink_tab__uKOPj\"><a class=\"Anchor_anchor__cSc3P TabLink_link__f_15h\" data-content=\"MIL @ CLE\" data-content-id=\"0022400154\" data-has-children=\"true\" data-has-more=\"false\" data-id=\"nba:games:main:game-details:cta\" data-is-external=\"false\" data-section=\"games\" data-text=\"GAME DETAILS\" data-track=\"click\" data-type=\"cta\" href=\"/game/mil-vs-cle-0022400154\">Game details</a></li></ul><a data-content=\"MIL @ CLE, 2024-11-04\" data-content-type=\"packages\" data-id=\"nba:games:subscribe:undefined\" data-section=\"game:broadcasters\" data-text=\"League Pass\" data-track=\"click\" href=\"https://www.nba.com/watch/league-pass-stream\"><div class=\"PlayIconPrefix_container__PyxKT\" data-has-margins=\"true\" data-testid=\"htw-lp\"><svg class=\"PlayIconPrefix_playIcon__Jgm__\" data-no-icon=\"true\" fill=\"none\" height=\"14\" role=\"presentation\" viewbox=\"0 0 14 14\" width=\"14\" xmlns=\"http://www.w3.org/2000/svg\"><circle cx=\"7\" cy=\"7\" fill=\"#FBCD44\" r=\"7\"></circle><path d=\"M10.15 7.35001L5.25 10.5L5.25 4.20001L10.15 7.35001Z\" fill=\"black\"></path></svg>League Pass</div></a></section>\n",
      "<section class=\"GameCard_gcMain__q1lUW\"><a class=\"GameCard_gcm__SKtfh GameCardMatchup_gameCardMatchup__H0uPe\" href=\"/game/gsw-vs-was-0022400155\"><div class=\"GameCardMatchup_wrapper__uUdW8\"><article class=\"GameCardMatchup_article__Fsvx9\"><figure class=\"MatchupCardTeamLogo_base__WZl01 GameCardMatchup_matchupCardTeamLogo__ZqZXC\"><div class=\"TeamLogo_block__rSWmO\"><img alt=\" Logo\" class=\"TeamLogo_logo__PclAJ\" loading=\"lazy\" src=\"https://cdn.nba.com/logos/nba/1610612744/primary/L/logo.svg\" title=\" Logo\"/></div></figure><div class=\"MatchupCardTeamName_base__PBkuX\" data-team-id=\"1610612744\"><span class=\"MatchupCardTeamName_teamName__9YaBA\">Warriors</span></div><p class=\"MatchupCardTeamRecord_record__20YHe\">-</p></article><div class=\"GameCardMatchup_statusWrapper__TDbQz\"><div class=\"GameCardMatchup_matchupScoreCardWrapper__X50gw\"></div><div class=\"GameCardMatchup_gameCardMatchupStatusWrapper__8rQ8v\"><div><div class=\"GameCardMatchupStatusText_gcs__2yfjE\" data-game-status=\"3\" data-is-preseason=\"false\"><p class=\"GameCardMatchupStatusText_gcsText__PcQUX\" data-is-live=\"false\" data-testid=\"game-status\">FINAL</p></div></div><svg class=\"GameCardMatchup_awayWin__zD021\" height=\"12\" role=\"presentation\" viewbox=\"0 0 7 12\" width=\"7\" xmlns=\"http://www.w3.org/2000/svg\"><path d=\"M.5 6l6 5.5V.5z\" fill=\"currentColor\" fill-rule=\"nonzero\"></path></svg><svg class=\"GameCardMatchup_homeWin__5E_iM\" data-no-icon=\"right\" height=\"12\" role=\"presentation\" viewbox=\"0 0 7 12\" width=\"7\" xmlns=\"http://www.w3.org/2000/svg\"><path d=\"M.5 6l6 5.5V.5z\" fill=\"currentColor\" fill-rule=\"nonzero\"></path></svg></div><div class=\"GameCardMatchup_matchScorecardAlignRight__n20ov\"></div></div><article class=\"GameCardMatchup_article__Fsvx9\"><figure class=\"MatchupCardTeamLogo_base__WZl01 GameCardMatchup_matchupCardTeamLogo__ZqZXC\"><div class=\"TeamLogo_block__rSWmO\"><img alt=\" Logo\" class=\"TeamLogo_logo__PclAJ\" loading=\"lazy\" src=\"https://cdn.nba.com/logos/nba/1610612764/primary/L/logo.svg\" title=\" Logo\"/></div></figure><div class=\"MatchupCardTeamName_base__PBkuX\" data-team-id=\"1610612764\"><span class=\"MatchupCardTeamName_teamName__9YaBA\">Wizards</span></div><p class=\"MatchupCardTeamRecord_record__20YHe\">-</p></article></div></a><ul class=\"Tabs_tab__rnewb\" data-has-rounded-ctas=\"true\" data-show-border=\"true\"><li class=\"TabLink_tab__uKOPj\"><a class=\"Anchor_anchor__cSc3P TabLink_link__f_15h\" data-content=\"0022400155\" data-has-children=\"true\" data-has-more=\"false\" data-id=\"nba:games:watch:cta\" data-is-external=\"false\" data-premium=\"true\" data-section=\"games\" data-text=\"GSW @ WAS\" data-track=\"video\" href=\"/game/gsw-vs-was-0022400155?watchFullGame\"><svg data-no-icon=\"true\" fill=\"none\" height=\"16\" role=\"presentation\" viewbox=\"0 0 17 16\" width=\"17\" xmlns=\"http://www.w3.org/2000/svg\"><path d=\"M13.3335 7.13398C14.0002 7.51888 14.0002 8.48113 13.3335 8.86603L6.3335 12.9075C5.66683 13.2924 4.8335 12.8113 4.8335 12.0415L4.8335 3.95855C4.8335 3.18875 5.66683 2.70763 6.3335 3.09253L13.3335 7.13398Z\" fill=\"black\"></path></svg>Watch</a></li><li class=\"TabLink_tab__uKOPj\"><a class=\"Anchor_anchor__cSc3P TabLink_link__f_15h\" data-content=\"GSW @ WAS\" data-content-id=\"0022400155\" data-has-children=\"true\" data-has-more=\"false\" data-id=\"nba:games:main:box-score:cta\" data-is-external=\"false\" data-section=\"games\" data-text=\"BOX SCORE\" data-track=\"click\" data-type=\"cta\" href=\"/game/gsw-vs-was-0022400155/box-score#box-score\">Box score</a></li><li class=\"TabLink_tab__uKOPj\"><a class=\"Anchor_anchor__cSc3P TabLink_link__f_15h\" data-content=\"GSW @ WAS\" data-content-id=\"0022400155\" data-has-children=\"true\" data-has-more=\"false\" data-id=\"nba:games:main:game-details:cta\" data-is-external=\"false\" data-section=\"games\" data-text=\"GAME DETAILS\" data-track=\"click\" data-type=\"cta\" href=\"/game/gsw-vs-was-0022400155\">Game details</a></li></ul><a data-content=\"GSW @ WAS, 2024-11-04\" data-content-type=\"packages\" data-id=\"nba:games:subscribe:undefined\" data-section=\"game:broadcasters\" data-text=\"League Pass\" data-track=\"click\" href=\"https://www.nba.com/watch/league-pass-stream\"><div class=\"PlayIconPrefix_container__PyxKT\" data-has-margins=\"true\" data-testid=\"htw-lp\"><svg class=\"PlayIconPrefix_playIcon__Jgm__\" data-no-icon=\"true\" fill=\"none\" height=\"14\" role=\"presentation\" viewbox=\"0 0 14 14\" width=\"14\" xmlns=\"http://www.w3.org/2000/svg\"><circle cx=\"7\" cy=\"7\" fill=\"#FBCD44\" r=\"7\"></circle><path d=\"M10.15 7.35001L5.25 10.5L5.25 4.20001L10.15 7.35001Z\" fill=\"black\"></path></svg>League Pass</div></a></section>\n",
      "<section class=\"GameCard_gcMain__q1lUW\"><a class=\"GameCard_gcm__SKtfh GameCardMatchup_gameCardMatchup__H0uPe\" href=\"/game/lal-vs-det-0022400156\"><div class=\"GameCardMatchup_wrapper__uUdW8\"><article class=\"GameCardMatchup_article__Fsvx9\"><figure class=\"MatchupCardTeamLogo_base__WZl01 GameCardMatchup_matchupCardTeamLogo__ZqZXC\"><div class=\"TeamLogo_block__rSWmO\"><img alt=\" Logo\" class=\"TeamLogo_logo__PclAJ\" loading=\"lazy\" src=\"https://cdn.nba.com/logos/nba/1610612747/primary/L/logo.svg\" title=\" Logo\"/></div></figure><div class=\"MatchupCardTeamName_base__PBkuX\" data-team-id=\"1610612747\"><span class=\"MatchupCardTeamName_teamName__9YaBA\">Lakers</span></div><p class=\"MatchupCardTeamRecord_record__20YHe\">-</p></article><div class=\"GameCardMatchup_statusWrapper__TDbQz\"><div class=\"GameCardMatchup_matchupScoreCardWrapper__X50gw\"></div><div class=\"GameCardMatchup_gameCardMatchupStatusWrapper__8rQ8v\"><div><div class=\"GameCardMatchupStatusText_gcs__2yfjE\" data-game-status=\"3\" data-is-preseason=\"false\"><p class=\"GameCardMatchupStatusText_gcsText__PcQUX\" data-is-live=\"false\" data-testid=\"game-status\">FINAL</p></div></div><svg class=\"GameCardMatchup_awayWin__zD021\" height=\"12\" role=\"presentation\" viewbox=\"0 0 7 12\" width=\"7\" xmlns=\"http://www.w3.org/2000/svg\"><path d=\"M.5 6l6 5.5V.5z\" fill=\"currentColor\" fill-rule=\"nonzero\"></path></svg><svg class=\"GameCardMatchup_homeWin__5E_iM\" data-no-icon=\"right\" height=\"12\" role=\"presentation\" viewbox=\"0 0 7 12\" width=\"7\" xmlns=\"http://www.w3.org/2000/svg\"><path d=\"M.5 6l6 5.5V.5z\" fill=\"currentColor\" fill-rule=\"nonzero\"></path></svg></div><div class=\"GameCardMatchup_matchScorecardAlignRight__n20ov\"></div></div><article class=\"GameCardMatchup_article__Fsvx9\"><figure class=\"MatchupCardTeamLogo_base__WZl01 GameCardMatchup_matchupCardTeamLogo__ZqZXC\"><div class=\"TeamLogo_block__rSWmO\"><img alt=\" Logo\" class=\"TeamLogo_logo__PclAJ\" loading=\"lazy\" src=\"https://cdn.nba.com/logos/nba/1610612765/primary/L/logo.svg\" title=\" Logo\"/></div></figure><div class=\"MatchupCardTeamName_base__PBkuX\" data-team-id=\"1610612765\"><span class=\"MatchupCardTeamName_teamName__9YaBA\">Pistons</span></div><p class=\"MatchupCardTeamRecord_record__20YHe\">-</p></article></div></a><ul class=\"Tabs_tab__rnewb\" data-has-rounded-ctas=\"true\" data-show-border=\"true\"><li class=\"TabLink_tab__uKOPj\"><a class=\"Anchor_anchor__cSc3P TabLink_link__f_15h\" data-content=\"0022400156\" data-has-children=\"true\" data-has-more=\"false\" data-id=\"nba:games:watch:cta\" data-is-external=\"false\" data-premium=\"true\" data-section=\"games\" data-text=\"LAL @ DET\" data-track=\"video\" href=\"/game/lal-vs-det-0022400156?watchFullGame\"><svg data-no-icon=\"true\" fill=\"none\" height=\"16\" role=\"presentation\" viewbox=\"0 0 17 16\" width=\"17\" xmlns=\"http://www.w3.org/2000/svg\"><path d=\"M13.3335 7.13398C14.0002 7.51888 14.0002 8.48113 13.3335 8.86603L6.3335 12.9075C5.66683 13.2924 4.8335 12.8113 4.8335 12.0415L4.8335 3.95855C4.8335 3.18875 5.66683 2.70763 6.3335 3.09253L13.3335 7.13398Z\" fill=\"black\"></path></svg>Watch</a></li><li class=\"TabLink_tab__uKOPj\"><a class=\"Anchor_anchor__cSc3P TabLink_link__f_15h\" data-content=\"LAL @ DET\" data-content-id=\"0022400156\" data-has-children=\"true\" data-has-more=\"false\" data-id=\"nba:games:main:box-score:cta\" data-is-external=\"false\" data-section=\"games\" data-text=\"BOX SCORE\" data-track=\"click\" data-type=\"cta\" href=\"/game/lal-vs-det-0022400156/box-score#box-score\">Box score</a></li><li class=\"TabLink_tab__uKOPj\"><a class=\"Anchor_anchor__cSc3P TabLink_link__f_15h\" data-content=\"LAL @ DET\" data-content-id=\"0022400156\" data-has-children=\"true\" data-has-more=\"false\" data-id=\"nba:games:main:game-details:cta\" data-is-external=\"false\" data-section=\"games\" data-text=\"GAME DETAILS\" data-track=\"click\" data-type=\"cta\" href=\"/game/lal-vs-det-0022400156\">Game details</a></li></ul><a data-content=\"LAL @ DET, 2024-11-04\" data-content-type=\"packages\" data-id=\"nba:games:subscribe:undefined\" data-section=\"game:broadcasters\" data-text=\"League Pass\" data-track=\"click\" href=\"https://www.nba.com/watch/league-pass-stream\"><div class=\"PlayIconPrefix_container__PyxKT\" data-has-margins=\"true\" data-testid=\"htw-lp\"><svg class=\"PlayIconPrefix_playIcon__Jgm__\" data-no-icon=\"true\" fill=\"none\" height=\"14\" role=\"presentation\" viewbox=\"0 0 14 14\" width=\"14\" xmlns=\"http://www.w3.org/2000/svg\"><circle cx=\"7\" cy=\"7\" fill=\"#FBCD44\" r=\"7\"></circle><path d=\"M10.15 7.35001L5.25 10.5L5.25 4.20001L10.15 7.35001Z\" fill=\"black\"></path></svg>League Pass</div></a></section>\n",
      "<section class=\"GameCard_gcMain__q1lUW\"><a class=\"GameCard_gcm__SKtfh GameCardMatchup_gameCardMatchup__H0uPe\" href=\"/game/bos-vs-atl-0022400157\"><div class=\"GameCardMatchup_wrapper__uUdW8\"><article class=\"GameCardMatchup_article__Fsvx9\"><figure class=\"MatchupCardTeamLogo_base__WZl01 GameCardMatchup_matchupCardTeamLogo__ZqZXC\"><div class=\"TeamLogo_block__rSWmO\"><img alt=\" Logo\" class=\"TeamLogo_logo__PclAJ\" loading=\"lazy\" src=\"https://cdn.nba.com/logos/nba/1610612738/primary/L/logo.svg\" title=\" Logo\"/></div></figure><div class=\"MatchupCardTeamName_base__PBkuX\" data-team-id=\"1610612738\"><span class=\"MatchupCardTeamName_teamName__9YaBA\">Celtics</span></div><p class=\"MatchupCardTeamRecord_record__20YHe\">-</p></article><div class=\"GameCardMatchup_statusWrapper__TDbQz\"><div class=\"GameCardMatchup_matchupScoreCardWrapper__X50gw\"></div><div class=\"GameCardMatchup_gameCardMatchupStatusWrapper__8rQ8v\"><div><div class=\"GameCardMatchupStatusText_gcs__2yfjE\" data-game-status=\"3\" data-is-preseason=\"false\"><p class=\"GameCardMatchupStatusText_gcsText__PcQUX\" data-is-live=\"false\" data-testid=\"game-status\">FINAL</p></div></div><svg class=\"GameCardMatchup_awayWin__zD021\" height=\"12\" role=\"presentation\" viewbox=\"0 0 7 12\" width=\"7\" xmlns=\"http://www.w3.org/2000/svg\"><path d=\"M.5 6l6 5.5V.5z\" fill=\"currentColor\" fill-rule=\"nonzero\"></path></svg><svg class=\"GameCardMatchup_homeWin__5E_iM\" data-no-icon=\"right\" height=\"12\" role=\"presentation\" viewbox=\"0 0 7 12\" width=\"7\" xmlns=\"http://www.w3.org/2000/svg\"><path d=\"M.5 6l6 5.5V.5z\" fill=\"currentColor\" fill-rule=\"nonzero\"></path></svg></div><div class=\"GameCardMatchup_matchScorecardAlignRight__n20ov\"></div></div><article class=\"GameCardMatchup_article__Fsvx9\"><figure class=\"MatchupCardTeamLogo_base__WZl01 GameCardMatchup_matchupCardTeamLogo__ZqZXC\"><div class=\"TeamLogo_block__rSWmO\"><img alt=\" Logo\" class=\"TeamLogo_logo__PclAJ\" loading=\"lazy\" src=\"https://cdn.nba.com/logos/nba/1610612737/primary/L/logo.svg\" title=\" Logo\"/></div></figure><div class=\"MatchupCardTeamName_base__PBkuX\" data-team-id=\"1610612737\"><span class=\"MatchupCardTeamName_teamName__9YaBA\">Hawks</span></div><p class=\"MatchupCardTeamRecord_record__20YHe\">-</p></article></div></a><ul class=\"Tabs_tab__rnewb\" data-has-rounded-ctas=\"true\" data-show-border=\"true\"><li class=\"TabLink_tab__uKOPj\"><a class=\"Anchor_anchor__cSc3P TabLink_link__f_15h\" data-content=\"0022400157\" data-has-children=\"true\" data-has-more=\"false\" data-id=\"nba:games:watch:cta\" data-is-external=\"false\" data-premium=\"true\" data-section=\"games\" data-text=\"BOS @ ATL\" data-track=\"video\" href=\"/game/bos-vs-atl-0022400157?watchFullGame\"><svg data-no-icon=\"true\" fill=\"none\" height=\"16\" role=\"presentation\" viewbox=\"0 0 17 16\" width=\"17\" xmlns=\"http://www.w3.org/2000/svg\"><path d=\"M13.3335 7.13398C14.0002 7.51888 14.0002 8.48113 13.3335 8.86603L6.3335 12.9075C5.66683 13.2924 4.8335 12.8113 4.8335 12.0415L4.8335 3.95855C4.8335 3.18875 5.66683 2.70763 6.3335 3.09253L13.3335 7.13398Z\" fill=\"black\"></path></svg>Watch</a></li><li class=\"TabLink_tab__uKOPj\"><a class=\"Anchor_anchor__cSc3P TabLink_link__f_15h\" data-content=\"BOS @ ATL\" data-content-id=\"0022400157\" data-has-children=\"true\" data-has-more=\"false\" data-id=\"nba:games:main:box-score:cta\" data-is-external=\"false\" data-section=\"games\" data-text=\"BOX SCORE\" data-track=\"click\" data-type=\"cta\" href=\"/game/bos-vs-atl-0022400157/box-score#box-score\">Box score</a></li><li class=\"TabLink_tab__uKOPj\"><a class=\"Anchor_anchor__cSc3P TabLink_link__f_15h\" data-content=\"BOS @ ATL\" data-content-id=\"0022400157\" data-has-children=\"true\" data-has-more=\"false\" data-id=\"nba:games:main:game-details:cta\" data-is-external=\"false\" data-section=\"games\" data-text=\"GAME DETAILS\" data-track=\"click\" data-type=\"cta\" href=\"/game/bos-vs-atl-0022400157\">Game details</a></li></ul><a data-content=\"BOS @ ATL, 2024-11-04\" data-content-type=\"packages\" data-id=\"nba:games:subscribe:undefined\" data-section=\"game:broadcasters\" data-text=\"League Pass\" data-track=\"click\" href=\"https://www.nba.com/watch/league-pass-stream\"><div class=\"PlayIconPrefix_container__PyxKT\" data-has-margins=\"true\" data-testid=\"htw-lp\"><svg class=\"PlayIconPrefix_playIcon__Jgm__\" data-no-icon=\"true\" fill=\"none\" height=\"14\" role=\"presentation\" viewbox=\"0 0 14 14\" width=\"14\" xmlns=\"http://www.w3.org/2000/svg\"><circle cx=\"7\" cy=\"7\" fill=\"#FBCD44\" r=\"7\"></circle><path d=\"M10.15 7.35001L5.25 10.5L5.25 4.20001L10.15 7.35001Z\" fill=\"black\"></path></svg>League Pass</div></a></section>\n",
      "<section class=\"GameCard_gcMain__q1lUW\"><a class=\"GameCard_gcm__SKtfh GameCardMatchup_gameCardMatchup__H0uPe\" href=\"/game/mem-vs-bkn-0022400158\"><div class=\"GameCardMatchup_wrapper__uUdW8\"><article class=\"GameCardMatchup_article__Fsvx9\"><figure class=\"MatchupCardTeamLogo_base__WZl01 GameCardMatchup_matchupCardTeamLogo__ZqZXC\"><div class=\"TeamLogo_block__rSWmO\"><img alt=\" Logo\" class=\"TeamLogo_logo__PclAJ\" loading=\"lazy\" src=\"https://cdn.nba.com/logos/nba/1610612763/primary/L/logo.svg\" title=\" Logo\"/></div></figure><div class=\"MatchupCardTeamName_base__PBkuX\" data-team-id=\"1610612763\"><span class=\"MatchupCardTeamName_teamName__9YaBA\">Grizzlies</span></div><p class=\"MatchupCardTeamRecord_record__20YHe\">-</p></article><div class=\"GameCardMatchup_statusWrapper__TDbQz\"><div class=\"GameCardMatchup_matchupScoreCardWrapper__X50gw\"></div><div class=\"GameCardMatchup_gameCardMatchupStatusWrapper__8rQ8v\"><div><div class=\"GameCardMatchupStatusText_gcs__2yfjE\" data-game-status=\"3\" data-is-preseason=\"false\"><p class=\"GameCardMatchupStatusText_gcsText__PcQUX\" data-is-live=\"false\" data-testid=\"game-status\">FINAL</p></div></div><svg class=\"GameCardMatchup_awayWin__zD021\" height=\"12\" role=\"presentation\" viewbox=\"0 0 7 12\" width=\"7\" xmlns=\"http://www.w3.org/2000/svg\"><path d=\"M.5 6l6 5.5V.5z\" fill=\"currentColor\" fill-rule=\"nonzero\"></path></svg><svg class=\"GameCardMatchup_homeWin__5E_iM\" data-no-icon=\"right\" height=\"12\" role=\"presentation\" viewbox=\"0 0 7 12\" width=\"7\" xmlns=\"http://www.w3.org/2000/svg\"><path d=\"M.5 6l6 5.5V.5z\" fill=\"currentColor\" fill-rule=\"nonzero\"></path></svg></div><div class=\"GameCardMatchup_matchScorecardAlignRight__n20ov\"></div></div><article class=\"GameCardMatchup_article__Fsvx9\"><figure class=\"MatchupCardTeamLogo_base__WZl01 GameCardMatchup_matchupCardTeamLogo__ZqZXC\"><div class=\"TeamLogo_block__rSWmO\"><img alt=\" Logo\" class=\"TeamLogo_logo__PclAJ\" loading=\"lazy\" src=\"https://cdn.nba.com/logos/nba/1610612751/primary/L/logo.svg\" title=\" Logo\"/></div></figure><div class=\"MatchupCardTeamName_base__PBkuX\" data-team-id=\"1610612751\"><span class=\"MatchupCardTeamName_teamName__9YaBA\">Nets</span></div><p class=\"MatchupCardTeamRecord_record__20YHe\">-</p></article></div></a><ul class=\"Tabs_tab__rnewb\" data-has-rounded-ctas=\"true\" data-show-border=\"true\"><li class=\"TabLink_tab__uKOPj\"><a class=\"Anchor_anchor__cSc3P TabLink_link__f_15h\" data-content=\"0022400158\" data-has-children=\"true\" data-has-more=\"false\" data-id=\"nba:games:watch:cta\" data-is-external=\"false\" data-premium=\"true\" data-section=\"games\" data-text=\"MEM @ BKN\" data-track=\"video\" href=\"/game/mem-vs-bkn-0022400158?watchFullGame\"><svg data-no-icon=\"true\" fill=\"none\" height=\"16\" role=\"presentation\" viewbox=\"0 0 17 16\" width=\"17\" xmlns=\"http://www.w3.org/2000/svg\"><path d=\"M13.3335 7.13398C14.0002 7.51888 14.0002 8.48113 13.3335 8.86603L6.3335 12.9075C5.66683 13.2924 4.8335 12.8113 4.8335 12.0415L4.8335 3.95855C4.8335 3.18875 5.66683 2.70763 6.3335 3.09253L13.3335 7.13398Z\" fill=\"black\"></path></svg>Watch</a></li><li class=\"TabLink_tab__uKOPj\"><a class=\"Anchor_anchor__cSc3P TabLink_link__f_15h\" data-content=\"MEM @ BKN\" data-content-id=\"0022400158\" data-has-children=\"true\" data-has-more=\"false\" data-id=\"nba:games:main:box-score:cta\" data-is-external=\"false\" data-section=\"games\" data-text=\"BOX SCORE\" data-track=\"click\" data-type=\"cta\" href=\"/game/mem-vs-bkn-0022400158/box-score#box-score\">Box score</a></li><li class=\"TabLink_tab__uKOPj\"><a class=\"Anchor_anchor__cSc3P TabLink_link__f_15h\" data-content=\"MEM @ BKN\" data-content-id=\"0022400158\" data-has-children=\"true\" data-has-more=\"false\" data-id=\"nba:games:main:game-details:cta\" data-is-external=\"false\" data-section=\"games\" data-text=\"GAME DETAILS\" data-track=\"click\" data-type=\"cta\" href=\"/game/mem-vs-bkn-0022400158\">Game details</a></li></ul><a data-content=\"MEM @ BKN, 2024-11-04\" data-content-type=\"packages\" data-id=\"nba:games:subscribe:undefined\" data-section=\"game:broadcasters\" data-text=\"League Pass\" data-track=\"click\" href=\"https://www.nba.com/watch/league-pass-stream\"><div class=\"PlayIconPrefix_container__PyxKT\" data-has-margins=\"true\" data-testid=\"htw-lp\"><svg class=\"PlayIconPrefix_playIcon__Jgm__\" data-no-icon=\"true\" fill=\"none\" height=\"14\" role=\"presentation\" viewbox=\"0 0 14 14\" width=\"14\" xmlns=\"http://www.w3.org/2000/svg\"><circle cx=\"7\" cy=\"7\" fill=\"#FBCD44\" r=\"7\"></circle><path d=\"M10.15 7.35001L5.25 10.5L5.25 4.20001L10.15 7.35001Z\" fill=\"black\"></path></svg>League Pass</div></a></section>\n",
      "<section class=\"GameCard_gcMain__q1lUW\"><a class=\"GameCard_gcm__SKtfh GameCardMatchup_gameCardMatchup__H0uPe\" href=\"/game/sac-vs-mia-0022400159\"><div class=\"GameCardMatchup_wrapper__uUdW8\"><article class=\"GameCardMatchup_article__Fsvx9\"><figure class=\"MatchupCardTeamLogo_base__WZl01 GameCardMatchup_matchupCardTeamLogo__ZqZXC\"><div class=\"TeamLogo_block__rSWmO\"><img alt=\" Logo\" class=\"TeamLogo_logo__PclAJ\" loading=\"lazy\" src=\"https://cdn.nba.com/logos/nba/1610612758/primary/L/logo.svg\" title=\" Logo\"/></div></figure><div class=\"MatchupCardTeamName_base__PBkuX\" data-team-id=\"1610612758\"><span class=\"MatchupCardTeamName_teamName__9YaBA\">Kings</span></div><p class=\"MatchupCardTeamRecord_record__20YHe\">-</p></article><div class=\"GameCardMatchup_statusWrapper__TDbQz\"><div class=\"GameCardMatchup_matchupScoreCardWrapper__X50gw\"></div><div class=\"GameCardMatchup_gameCardMatchupStatusWrapper__8rQ8v\"><div><div class=\"GameCardMatchupStatusText_gcs__2yfjE\" data-game-status=\"3\" data-is-preseason=\"false\"><p class=\"GameCardMatchupStatusText_gcsText__PcQUX\" data-is-live=\"false\" data-testid=\"game-status\">FINAL</p></div></div><svg class=\"GameCardMatchup_awayWin__zD021\" height=\"12\" role=\"presentation\" viewbox=\"0 0 7 12\" width=\"7\" xmlns=\"http://www.w3.org/2000/svg\"><path d=\"M.5 6l6 5.5V.5z\" fill=\"currentColor\" fill-rule=\"nonzero\"></path></svg><svg class=\"GameCardMatchup_homeWin__5E_iM\" data-no-icon=\"right\" height=\"12\" role=\"presentation\" viewbox=\"0 0 7 12\" width=\"7\" xmlns=\"http://www.w3.org/2000/svg\"><path d=\"M.5 6l6 5.5V.5z\" fill=\"currentColor\" fill-rule=\"nonzero\"></path></svg></div><div class=\"GameCardMatchup_matchScorecardAlignRight__n20ov\"></div></div><article class=\"GameCardMatchup_article__Fsvx9\"><figure class=\"MatchupCardTeamLogo_base__WZl01 GameCardMatchup_matchupCardTeamLogo__ZqZXC\"><div class=\"TeamLogo_block__rSWmO\"><img alt=\" Logo\" class=\"TeamLogo_logo__PclAJ\" loading=\"lazy\" src=\"https://cdn.nba.com/logos/nba/1610612748/primary/L/logo.svg\" title=\" Logo\"/></div></figure><div class=\"MatchupCardTeamName_base__PBkuX\" data-team-id=\"1610612748\"><span class=\"MatchupCardTeamName_teamName__9YaBA\">Heat</span></div><p class=\"MatchupCardTeamRecord_record__20YHe\">-</p></article></div></a><ul class=\"Tabs_tab__rnewb\" data-has-rounded-ctas=\"true\" data-show-border=\"true\"><li class=\"TabLink_tab__uKOPj\"><a class=\"Anchor_anchor__cSc3P TabLink_link__f_15h\" data-content=\"0022400159\" data-has-children=\"true\" data-has-more=\"false\" data-id=\"nba:games:watch:cta\" data-is-external=\"false\" data-premium=\"true\" data-section=\"games\" data-text=\"SAC @ MIA\" data-track=\"video\" href=\"/game/sac-vs-mia-0022400159?watchFullGame\"><svg data-no-icon=\"true\" fill=\"none\" height=\"16\" role=\"presentation\" viewbox=\"0 0 17 16\" width=\"17\" xmlns=\"http://www.w3.org/2000/svg\"><path d=\"M13.3335 7.13398C14.0002 7.51888 14.0002 8.48113 13.3335 8.86603L6.3335 12.9075C5.66683 13.2924 4.8335 12.8113 4.8335 12.0415L4.8335 3.95855C4.8335 3.18875 5.66683 2.70763 6.3335 3.09253L13.3335 7.13398Z\" fill=\"black\"></path></svg>Watch</a></li><li class=\"TabLink_tab__uKOPj\"><a class=\"Anchor_anchor__cSc3P TabLink_link__f_15h\" data-content=\"SAC @ MIA\" data-content-id=\"0022400159\" data-has-children=\"true\" data-has-more=\"false\" data-id=\"nba:games:main:box-score:cta\" data-is-external=\"false\" data-section=\"games\" data-text=\"BOX SCORE\" data-track=\"click\" data-type=\"cta\" href=\"/game/sac-vs-mia-0022400159/box-score#box-score\">Box score</a></li><li class=\"TabLink_tab__uKOPj\"><a class=\"Anchor_anchor__cSc3P TabLink_link__f_15h\" data-content=\"SAC @ MIA\" data-content-id=\"0022400159\" data-has-children=\"true\" data-has-more=\"false\" data-id=\"nba:games:main:game-details:cta\" data-is-external=\"false\" data-section=\"games\" data-text=\"GAME DETAILS\" data-track=\"click\" data-type=\"cta\" href=\"/game/sac-vs-mia-0022400159\">Game details</a></li></ul><a data-content=\"SAC @ MIA, 2024-11-04\" data-content-type=\"packages\" data-id=\"nba:games:subscribe:undefined\" data-section=\"game:broadcasters\" data-text=\"League Pass\" data-track=\"click\" href=\"https://www.nba.com/watch/league-pass-stream\"><div class=\"PlayIconPrefix_container__PyxKT\" data-has-margins=\"true\" data-testid=\"htw-lp\"><svg class=\"PlayIconPrefix_playIcon__Jgm__\" data-no-icon=\"true\" fill=\"none\" height=\"14\" role=\"presentation\" viewbox=\"0 0 14 14\" width=\"14\" xmlns=\"http://www.w3.org/2000/svg\"><circle cx=\"7\" cy=\"7\" fill=\"#FBCD44\" r=\"7\"></circle><path d=\"M10.15 7.35001L5.25 10.5L5.25 4.20001L10.15 7.35001Z\" fill=\"black\"></path></svg>League Pass</div></a></section>\n",
      "<section class=\"GameCard_gcMain__q1lUW\"><a class=\"GameCard_gcm__SKtfh GameCardMatchup_gameCardMatchup__H0uPe\" href=\"/game/uta-vs-chi-0022400160\"><div class=\"GameCardMatchup_wrapper__uUdW8\"><article class=\"GameCardMatchup_article__Fsvx9\"><figure class=\"MatchupCardTeamLogo_base__WZl01 GameCardMatchup_matchupCardTeamLogo__ZqZXC\"><div class=\"TeamLogo_block__rSWmO\"><img alt=\" Logo\" class=\"TeamLogo_logo__PclAJ\" loading=\"lazy\" src=\"https://cdn.nba.com/logos/nba/1610612762/primary/L/logo.svg\" title=\" Logo\"/></div></figure><div class=\"MatchupCardTeamName_base__PBkuX\" data-team-id=\"1610612762\"><span class=\"MatchupCardTeamName_teamName__9YaBA\">Jazz</span></div><p class=\"MatchupCardTeamRecord_record__20YHe\">-</p></article><div class=\"GameCardMatchup_statusWrapper__TDbQz\"><div class=\"GameCardMatchup_matchupScoreCardWrapper__X50gw\"></div><div class=\"GameCardMatchup_gameCardMatchupStatusWrapper__8rQ8v\"><div><div class=\"GameCardMatchupStatusText_gcs__2yfjE\" data-game-status=\"3\" data-is-preseason=\"false\"><p class=\"GameCardMatchupStatusText_gcsText__PcQUX\" data-is-live=\"false\" data-testid=\"game-status\">FINAL</p></div></div><svg class=\"GameCardMatchup_awayWin__zD021\" height=\"12\" role=\"presentation\" viewbox=\"0 0 7 12\" width=\"7\" xmlns=\"http://www.w3.org/2000/svg\"><path d=\"M.5 6l6 5.5V.5z\" fill=\"currentColor\" fill-rule=\"nonzero\"></path></svg><svg class=\"GameCardMatchup_homeWin__5E_iM\" data-no-icon=\"right\" height=\"12\" role=\"presentation\" viewbox=\"0 0 7 12\" width=\"7\" xmlns=\"http://www.w3.org/2000/svg\"><path d=\"M.5 6l6 5.5V.5z\" fill=\"currentColor\" fill-rule=\"nonzero\"></path></svg></div><div class=\"GameCardMatchup_matchScorecardAlignRight__n20ov\"></div></div><article class=\"GameCardMatchup_article__Fsvx9\"><figure class=\"MatchupCardTeamLogo_base__WZl01 GameCardMatchup_matchupCardTeamLogo__ZqZXC\"><div class=\"TeamLogo_block__rSWmO\"><img alt=\" Logo\" class=\"TeamLogo_logo__PclAJ\" loading=\"lazy\" src=\"https://cdn.nba.com/logos/nba/1610612741/primary/L/logo.svg\" title=\" Logo\"/></div></figure><div class=\"MatchupCardTeamName_base__PBkuX\" data-team-id=\"1610612741\"><span class=\"MatchupCardTeamName_teamName__9YaBA\">Bulls</span></div><p class=\"MatchupCardTeamRecord_record__20YHe\">-</p></article></div></a><ul class=\"Tabs_tab__rnewb\" data-has-rounded-ctas=\"true\" data-show-border=\"true\"><li class=\"TabLink_tab__uKOPj\"><a class=\"Anchor_anchor__cSc3P TabLink_link__f_15h\" data-content=\"0022400160\" data-has-children=\"true\" data-has-more=\"false\" data-id=\"nba:games:watch:cta\" data-is-external=\"false\" data-premium=\"true\" data-section=\"games\" data-text=\"UTA @ CHI\" data-track=\"video\" href=\"/game/uta-vs-chi-0022400160?watchFullGame\"><svg data-no-icon=\"true\" fill=\"none\" height=\"16\" role=\"presentation\" viewbox=\"0 0 17 16\" width=\"17\" xmlns=\"http://www.w3.org/2000/svg\"><path d=\"M13.3335 7.13398C14.0002 7.51888 14.0002 8.48113 13.3335 8.86603L6.3335 12.9075C5.66683 13.2924 4.8335 12.8113 4.8335 12.0415L4.8335 3.95855C4.8335 3.18875 5.66683 2.70763 6.3335 3.09253L13.3335 7.13398Z\" fill=\"black\"></path></svg>Watch</a></li><li class=\"TabLink_tab__uKOPj\"><a class=\"Anchor_anchor__cSc3P TabLink_link__f_15h\" data-content=\"UTA @ CHI\" data-content-id=\"0022400160\" data-has-children=\"true\" data-has-more=\"false\" data-id=\"nba:games:main:box-score:cta\" data-is-external=\"false\" data-section=\"games\" data-text=\"BOX SCORE\" data-track=\"click\" data-type=\"cta\" href=\"/game/uta-vs-chi-0022400160/box-score#box-score\">Box score</a></li><li class=\"TabLink_tab__uKOPj\"><a class=\"Anchor_anchor__cSc3P TabLink_link__f_15h\" data-content=\"UTA @ CHI\" data-content-id=\"0022400160\" data-has-children=\"true\" data-has-more=\"false\" data-id=\"nba:games:main:game-details:cta\" data-is-external=\"false\" data-section=\"games\" data-text=\"GAME DETAILS\" data-track=\"click\" data-type=\"cta\" href=\"/game/uta-vs-chi-0022400160\">Game details</a></li></ul><a data-content=\"UTA @ CHI, 2024-11-04\" data-content-type=\"packages\" data-id=\"nba:games:subscribe:undefined\" data-section=\"game:broadcasters\" data-text=\"League Pass\" data-track=\"click\" href=\"https://www.nba.com/watch/league-pass-stream\"><div class=\"PlayIconPrefix_container__PyxKT\" data-has-margins=\"true\" data-testid=\"htw-lp\"><svg class=\"PlayIconPrefix_playIcon__Jgm__\" data-no-icon=\"true\" fill=\"none\" height=\"14\" role=\"presentation\" viewbox=\"0 0 14 14\" width=\"14\" xmlns=\"http://www.w3.org/2000/svg\"><circle cx=\"7\" cy=\"7\" fill=\"#FBCD44\" r=\"7\"></circle><path d=\"M10.15 7.35001L5.25 10.5L5.25 4.20001L10.15 7.35001Z\" fill=\"black\"></path></svg>League Pass</div></a></section>\n",
      "<section class=\"GameCard_gcMain__q1lUW\"><a class=\"GameCard_gcm__SKtfh GameCardMatchup_gameCardMatchup__H0uPe\" href=\"/game/nyk-vs-hou-0022400161\"><div class=\"GameCardMatchup_wrapper__uUdW8\"><article class=\"GameCardMatchup_article__Fsvx9\"><figure class=\"MatchupCardTeamLogo_base__WZl01 GameCardMatchup_matchupCardTeamLogo__ZqZXC\"><div class=\"TeamLogo_block__rSWmO\"><img alt=\" Logo\" class=\"TeamLogo_logo__PclAJ\" loading=\"lazy\" src=\"https://cdn.nba.com/logos/nba/1610612752/primary/L/logo.svg\" title=\" Logo\"/></div></figure><div class=\"MatchupCardTeamName_base__PBkuX\" data-team-id=\"1610612752\"><span class=\"MatchupCardTeamName_teamName__9YaBA\">Knicks</span></div><p class=\"MatchupCardTeamRecord_record__20YHe\">-</p></article><div class=\"GameCardMatchup_statusWrapper__TDbQz\"><div class=\"GameCardMatchup_matchupScoreCardWrapper__X50gw\"></div><div class=\"GameCardMatchup_gameCardMatchupStatusWrapper__8rQ8v\"><div><div class=\"GameCardMatchupStatusText_gcs__2yfjE\" data-game-status=\"3\" data-is-preseason=\"false\"><p class=\"GameCardMatchupStatusText_gcsText__PcQUX\" data-is-live=\"false\" data-testid=\"game-status\">FINAL</p></div></div><svg class=\"GameCardMatchup_awayWin__zD021\" height=\"12\" role=\"presentation\" viewbox=\"0 0 7 12\" width=\"7\" xmlns=\"http://www.w3.org/2000/svg\"><path d=\"M.5 6l6 5.5V.5z\" fill=\"currentColor\" fill-rule=\"nonzero\"></path></svg><svg class=\"GameCardMatchup_homeWin__5E_iM\" data-no-icon=\"right\" height=\"12\" role=\"presentation\" viewbox=\"0 0 7 12\" width=\"7\" xmlns=\"http://www.w3.org/2000/svg\"><path d=\"M.5 6l6 5.5V.5z\" fill=\"currentColor\" fill-rule=\"nonzero\"></path></svg></div><div class=\"GameCardMatchup_matchScorecardAlignRight__n20ov\"></div></div><article class=\"GameCardMatchup_article__Fsvx9\"><figure class=\"MatchupCardTeamLogo_base__WZl01 GameCardMatchup_matchupCardTeamLogo__ZqZXC\"><div class=\"TeamLogo_block__rSWmO\"><img alt=\" Logo\" class=\"TeamLogo_logo__PclAJ\" loading=\"lazy\" src=\"https://cdn.nba.com/logos/nba/1610612745/primary/L/logo.svg\" title=\" Logo\"/></div></figure><div class=\"MatchupCardTeamName_base__PBkuX\" data-team-id=\"1610612745\"><span class=\"MatchupCardTeamName_teamName__9YaBA\">Rockets</span></div><p class=\"MatchupCardTeamRecord_record__20YHe\">-</p></article></div></a><ul class=\"Tabs_tab__rnewb\" data-has-rounded-ctas=\"true\" data-show-border=\"true\"><li class=\"TabLink_tab__uKOPj\"><a class=\"Anchor_anchor__cSc3P TabLink_link__f_15h\" data-content=\"0022400161\" data-has-children=\"true\" data-has-more=\"false\" data-id=\"nba:games:watch:cta\" data-is-external=\"false\" data-premium=\"true\" data-section=\"games\" data-text=\"NYK @ HOU\" data-track=\"video\" href=\"/game/nyk-vs-hou-0022400161?watchFullGame\"><svg data-no-icon=\"true\" fill=\"none\" height=\"16\" role=\"presentation\" viewbox=\"0 0 17 16\" width=\"17\" xmlns=\"http://www.w3.org/2000/svg\"><path d=\"M13.3335 7.13398C14.0002 7.51888 14.0002 8.48113 13.3335 8.86603L6.3335 12.9075C5.66683 13.2924 4.8335 12.8113 4.8335 12.0415L4.8335 3.95855C4.8335 3.18875 5.66683 2.70763 6.3335 3.09253L13.3335 7.13398Z\" fill=\"black\"></path></svg>Watch</a></li><li class=\"TabLink_tab__uKOPj\"><a class=\"Anchor_anchor__cSc3P TabLink_link__f_15h\" data-content=\"NYK @ HOU\" data-content-id=\"0022400161\" data-has-children=\"true\" data-has-more=\"false\" data-id=\"nba:games:main:box-score:cta\" data-is-external=\"false\" data-section=\"games\" data-text=\"BOX SCORE\" data-track=\"click\" data-type=\"cta\" href=\"/game/nyk-vs-hou-0022400161/box-score#box-score\">Box score</a></li><li class=\"TabLink_tab__uKOPj\"><a class=\"Anchor_anchor__cSc3P TabLink_link__f_15h\" data-content=\"NYK @ HOU\" data-content-id=\"0022400161\" data-has-children=\"true\" data-has-more=\"false\" data-id=\"nba:games:main:game-details:cta\" data-is-external=\"false\" data-section=\"games\" data-text=\"GAME DETAILS\" data-track=\"click\" data-type=\"cta\" href=\"/game/nyk-vs-hou-0022400161\">Game details</a></li></ul><a data-content=\"NYK @ HOU, 2024-11-04\" data-content-type=\"packages\" data-id=\"nba:games:subscribe:undefined\" data-section=\"game:broadcasters\" data-text=\"League Pass\" data-track=\"click\" href=\"https://www.nba.com/watch/league-pass-stream\"><div class=\"PlayIconPrefix_container__PyxKT\" data-has-margins=\"true\" data-testid=\"htw-lp\"><svg class=\"PlayIconPrefix_playIcon__Jgm__\" data-no-icon=\"true\" fill=\"none\" height=\"14\" role=\"presentation\" viewbox=\"0 0 14 14\" width=\"14\" xmlns=\"http://www.w3.org/2000/svg\"><circle cx=\"7\" cy=\"7\" fill=\"#FBCD44\" r=\"7\"></circle><path d=\"M10.15 7.35001L5.25 10.5L5.25 4.20001L10.15 7.35001Z\" fill=\"black\"></path></svg>League Pass</div></a></section>\n",
      "<section class=\"GameCard_gcMain__q1lUW\"><a class=\"GameCard_gcm__SKtfh GameCardMatchup_gameCardMatchup__H0uPe\" href=\"/game/cha-vs-min-0022400162\"><div class=\"GameCardMatchup_wrapper__uUdW8\"><article class=\"GameCardMatchup_article__Fsvx9\"><figure class=\"MatchupCardTeamLogo_base__WZl01 GameCardMatchup_matchupCardTeamLogo__ZqZXC\"><div class=\"TeamLogo_block__rSWmO\"><img alt=\" Logo\" class=\"TeamLogo_logo__PclAJ\" loading=\"lazy\" src=\"https://cdn.nba.com/logos/nba/1610612766/primary/L/logo.svg\" title=\" Logo\"/></div></figure><div class=\"MatchupCardTeamName_base__PBkuX\" data-team-id=\"1610612766\"><span class=\"MatchupCardTeamName_teamName__9YaBA\">Hornets</span></div><p class=\"MatchupCardTeamRecord_record__20YHe\">-</p></article><div class=\"GameCardMatchup_statusWrapper__TDbQz\"><div class=\"GameCardMatchup_matchupScoreCardWrapper__X50gw\"></div><div class=\"GameCardMatchup_gameCardMatchupStatusWrapper__8rQ8v\"><div><div class=\"GameCardMatchupStatusText_gcs__2yfjE\" data-game-status=\"3\" data-is-preseason=\"false\"><p class=\"GameCardMatchupStatusText_gcsText__PcQUX\" data-is-live=\"false\" data-testid=\"game-status\">FINAL</p></div></div><svg class=\"GameCardMatchup_awayWin__zD021\" height=\"12\" role=\"presentation\" viewbox=\"0 0 7 12\" width=\"7\" xmlns=\"http://www.w3.org/2000/svg\"><path d=\"M.5 6l6 5.5V.5z\" fill=\"currentColor\" fill-rule=\"nonzero\"></path></svg><svg class=\"GameCardMatchup_homeWin__5E_iM\" data-no-icon=\"right\" height=\"12\" role=\"presentation\" viewbox=\"0 0 7 12\" width=\"7\" xmlns=\"http://www.w3.org/2000/svg\"><path d=\"M.5 6l6 5.5V.5z\" fill=\"currentColor\" fill-rule=\"nonzero\"></path></svg></div><div class=\"GameCardMatchup_matchScorecardAlignRight__n20ov\"></div></div><article class=\"GameCardMatchup_article__Fsvx9\"><figure class=\"MatchupCardTeamLogo_base__WZl01 GameCardMatchup_matchupCardTeamLogo__ZqZXC\"><div class=\"TeamLogo_block__rSWmO\"><img alt=\" Logo\" class=\"TeamLogo_logo__PclAJ\" loading=\"lazy\" src=\"https://cdn.nba.com/logos/nba/1610612750/primary/L/logo.svg\" title=\" Logo\"/></div></figure><div class=\"MatchupCardTeamName_base__PBkuX\" data-team-id=\"1610612750\"><span class=\"MatchupCardTeamName_teamName__9YaBA\">Timberwolves</span></div><p class=\"MatchupCardTeamRecord_record__20YHe\">-</p></article></div></a><ul class=\"Tabs_tab__rnewb\" data-has-rounded-ctas=\"true\" data-show-border=\"true\"><li class=\"TabLink_tab__uKOPj\"><a class=\"Anchor_anchor__cSc3P TabLink_link__f_15h\" data-content=\"0022400162\" data-has-children=\"true\" data-has-more=\"false\" data-id=\"nba:games:watch:cta\" data-is-external=\"false\" data-premium=\"true\" data-section=\"games\" data-text=\"CHA @ MIN\" data-track=\"video\" href=\"/game/cha-vs-min-0022400162?watchFullGame\"><svg data-no-icon=\"true\" fill=\"none\" height=\"16\" role=\"presentation\" viewbox=\"0 0 17 16\" width=\"17\" xmlns=\"http://www.w3.org/2000/svg\"><path d=\"M13.3335 7.13398C14.0002 7.51888 14.0002 8.48113 13.3335 8.86603L6.3335 12.9075C5.66683 13.2924 4.8335 12.8113 4.8335 12.0415L4.8335 3.95855C4.8335 3.18875 5.66683 2.70763 6.3335 3.09253L13.3335 7.13398Z\" fill=\"black\"></path></svg>Watch</a></li><li class=\"TabLink_tab__uKOPj\"><a class=\"Anchor_anchor__cSc3P TabLink_link__f_15h\" data-content=\"CHA @ MIN\" data-content-id=\"0022400162\" data-has-children=\"true\" data-has-more=\"false\" data-id=\"nba:games:main:box-score:cta\" data-is-external=\"false\" data-section=\"games\" data-text=\"BOX SCORE\" data-track=\"click\" data-type=\"cta\" href=\"/game/cha-vs-min-0022400162/box-score#box-score\">Box score</a></li><li class=\"TabLink_tab__uKOPj\"><a class=\"Anchor_anchor__cSc3P TabLink_link__f_15h\" data-content=\"CHA @ MIN\" data-content-id=\"0022400162\" data-has-children=\"true\" data-has-more=\"false\" data-id=\"nba:games:main:game-details:cta\" data-is-external=\"false\" data-section=\"games\" data-text=\"GAME DETAILS\" data-track=\"click\" data-type=\"cta\" href=\"/game/cha-vs-min-0022400162\">Game details</a></li></ul><a data-content=\"CHA @ MIN, 2024-11-04\" data-content-type=\"packages\" data-id=\"nba:games:subscribe:undefined\" data-section=\"game:broadcasters\" data-text=\"League Pass\" data-track=\"click\" href=\"https://www.nba.com/watch/league-pass-stream\"><div class=\"PlayIconPrefix_container__PyxKT\" data-has-margins=\"true\" data-testid=\"htw-lp\"><svg class=\"PlayIconPrefix_playIcon__Jgm__\" data-no-icon=\"true\" fill=\"none\" height=\"14\" role=\"presentation\" viewbox=\"0 0 14 14\" width=\"14\" xmlns=\"http://www.w3.org/2000/svg\"><circle cx=\"7\" cy=\"7\" fill=\"#FBCD44\" r=\"7\"></circle><path d=\"M10.15 7.35001L5.25 10.5L5.25 4.20001L10.15 7.35001Z\" fill=\"black\"></path></svg>League Pass</div></a></section>\n",
      "<section class=\"GameCard_gcMain__q1lUW\"><a class=\"GameCard_gcm__SKtfh GameCardMatchup_gameCardMatchup__H0uPe\" href=\"/game/orl-vs-okc-0022400163\"><div class=\"GameCardMatchup_wrapper__uUdW8\"><article class=\"GameCardMatchup_article__Fsvx9\"><figure class=\"MatchupCardTeamLogo_base__WZl01 GameCardMatchup_matchupCardTeamLogo__ZqZXC\"><div class=\"TeamLogo_block__rSWmO\"><img alt=\" Logo\" class=\"TeamLogo_logo__PclAJ\" loading=\"lazy\" src=\"https://cdn.nba.com/logos/nba/1610612753/primary/L/logo.svg\" title=\" Logo\"/></div></figure><div class=\"MatchupCardTeamName_base__PBkuX\" data-team-id=\"1610612753\"><span class=\"MatchupCardTeamName_teamName__9YaBA\">Magic</span></div><p class=\"MatchupCardTeamRecord_record__20YHe\">-</p></article><div class=\"GameCardMatchup_statusWrapper__TDbQz\"><div class=\"GameCardMatchup_matchupScoreCardWrapper__X50gw\"></div><div class=\"GameCardMatchup_gameCardMatchupStatusWrapper__8rQ8v\"><div><div class=\"GameCardMatchupStatusText_gcs__2yfjE\" data-game-status=\"3\" data-is-preseason=\"false\"><p class=\"GameCardMatchupStatusText_gcsText__PcQUX\" data-is-live=\"false\" data-testid=\"game-status\">FINAL</p></div></div><svg class=\"GameCardMatchup_awayWin__zD021\" height=\"12\" role=\"presentation\" viewbox=\"0 0 7 12\" width=\"7\" xmlns=\"http://www.w3.org/2000/svg\"><path d=\"M.5 6l6 5.5V.5z\" fill=\"currentColor\" fill-rule=\"nonzero\"></path></svg><svg class=\"GameCardMatchup_homeWin__5E_iM\" data-no-icon=\"right\" height=\"12\" role=\"presentation\" viewbox=\"0 0 7 12\" width=\"7\" xmlns=\"http://www.w3.org/2000/svg\"><path d=\"M.5 6l6 5.5V.5z\" fill=\"currentColor\" fill-rule=\"nonzero\"></path></svg></div><div class=\"GameCardMatchup_matchScorecardAlignRight__n20ov\"></div></div><article class=\"GameCardMatchup_article__Fsvx9\"><figure class=\"MatchupCardTeamLogo_base__WZl01 GameCardMatchup_matchupCardTeamLogo__ZqZXC\"><div class=\"TeamLogo_block__rSWmO\"><img alt=\" Logo\" class=\"TeamLogo_logo__PclAJ\" loading=\"lazy\" src=\"https://cdn.nba.com/logos/nba/1610612760/primary/L/logo.svg\" title=\" Logo\"/></div></figure><div class=\"MatchupCardTeamName_base__PBkuX\" data-team-id=\"1610612760\"><span class=\"MatchupCardTeamName_teamName__9YaBA\">Thunder</span></div><p class=\"MatchupCardTeamRecord_record__20YHe\">-</p></article></div></a><ul class=\"Tabs_tab__rnewb\" data-has-rounded-ctas=\"true\" data-show-border=\"true\"><li class=\"TabLink_tab__uKOPj\"><a class=\"Anchor_anchor__cSc3P TabLink_link__f_15h\" data-content=\"0022400163\" data-has-children=\"true\" data-has-more=\"false\" data-id=\"nba:games:watch:cta\" data-is-external=\"false\" data-premium=\"true\" data-section=\"games\" data-text=\"ORL @ OKC\" data-track=\"video\" href=\"/game/orl-vs-okc-0022400163?watchFullGame\"><svg data-no-icon=\"true\" fill=\"none\" height=\"16\" role=\"presentation\" viewbox=\"0 0 17 16\" width=\"17\" xmlns=\"http://www.w3.org/2000/svg\"><path d=\"M13.3335 7.13398C14.0002 7.51888 14.0002 8.48113 13.3335 8.86603L6.3335 12.9075C5.66683 13.2924 4.8335 12.8113 4.8335 12.0415L4.8335 3.95855C4.8335 3.18875 5.66683 2.70763 6.3335 3.09253L13.3335 7.13398Z\" fill=\"black\"></path></svg>Watch</a></li><li class=\"TabLink_tab__uKOPj\"><a class=\"Anchor_anchor__cSc3P TabLink_link__f_15h\" data-content=\"ORL @ OKC\" data-content-id=\"0022400163\" data-has-children=\"true\" data-has-more=\"false\" data-id=\"nba:games:main:box-score:cta\" data-is-external=\"false\" data-section=\"games\" data-text=\"BOX SCORE\" data-track=\"click\" data-type=\"cta\" href=\"/game/orl-vs-okc-0022400163/box-score#box-score\">Box score</a></li><li class=\"TabLink_tab__uKOPj\"><a class=\"Anchor_anchor__cSc3P TabLink_link__f_15h\" data-content=\"ORL @ OKC\" data-content-id=\"0022400163\" data-has-children=\"true\" data-has-more=\"false\" data-id=\"nba:games:main:game-details:cta\" data-is-external=\"false\" data-section=\"games\" data-text=\"GAME DETAILS\" data-track=\"click\" data-type=\"cta\" href=\"/game/orl-vs-okc-0022400163\">Game details</a></li></ul><a data-content=\"ORL @ OKC, 2024-11-04\" data-content-type=\"packages\" data-id=\"nba:games:subscribe:undefined\" data-section=\"game:broadcasters\" data-text=\"League Pass\" data-track=\"click\" href=\"https://www.nba.com/watch/league-pass-stream\"><div class=\"PlayIconPrefix_container__PyxKT\" data-has-margins=\"true\" data-testid=\"htw-lp\"><svg class=\"PlayIconPrefix_playIcon__Jgm__\" data-no-icon=\"true\" fill=\"none\" height=\"14\" role=\"presentation\" viewbox=\"0 0 14 14\" width=\"14\" xmlns=\"http://www.w3.org/2000/svg\"><circle cx=\"7\" cy=\"7\" fill=\"#FBCD44\" r=\"7\"></circle><path d=\"M10.15 7.35001L5.25 10.5L5.25 4.20001L10.15 7.35001Z\" fill=\"black\"></path></svg>League Pass</div></a></section>\n",
      "<section class=\"GameCard_gcMain__q1lUW\"><a class=\"GameCard_gcm__SKtfh GameCardMatchup_gameCardMatchup__H0uPe\" href=\"/game/por-vs-nop-0022400164\"><div class=\"GameCardMatchup_wrapper__uUdW8\"><article class=\"GameCardMatchup_article__Fsvx9\"><figure class=\"MatchupCardTeamLogo_base__WZl01 GameCardMatchup_matchupCardTeamLogo__ZqZXC\"><div class=\"TeamLogo_block__rSWmO\"><img alt=\" Logo\" class=\"TeamLogo_logo__PclAJ\" loading=\"lazy\" src=\"https://cdn.nba.com/logos/nba/1610612757/primary/L/logo.svg\" title=\" Logo\"/></div></figure><div class=\"MatchupCardTeamName_base__PBkuX\" data-team-id=\"1610612757\"><span class=\"MatchupCardTeamName_teamName__9YaBA\">Trail Blazers</span></div><p class=\"MatchupCardTeamRecord_record__20YHe\">-</p></article><div class=\"GameCardMatchup_statusWrapper__TDbQz\"><div class=\"GameCardMatchup_matchupScoreCardWrapper__X50gw\"></div><div class=\"GameCardMatchup_gameCardMatchupStatusWrapper__8rQ8v\"><div><div class=\"GameCardMatchupStatusText_gcs__2yfjE\" data-game-status=\"3\" data-is-preseason=\"false\"><p class=\"GameCardMatchupStatusText_gcsText__PcQUX\" data-is-live=\"false\" data-testid=\"game-status\">FINAL</p></div></div><svg class=\"GameCardMatchup_awayWin__zD021\" height=\"12\" role=\"presentation\" viewbox=\"0 0 7 12\" width=\"7\" xmlns=\"http://www.w3.org/2000/svg\"><path d=\"M.5 6l6 5.5V.5z\" fill=\"currentColor\" fill-rule=\"nonzero\"></path></svg><svg class=\"GameCardMatchup_homeWin__5E_iM\" data-no-icon=\"right\" height=\"12\" role=\"presentation\" viewbox=\"0 0 7 12\" width=\"7\" xmlns=\"http://www.w3.org/2000/svg\"><path d=\"M.5 6l6 5.5V.5z\" fill=\"currentColor\" fill-rule=\"nonzero\"></path></svg></div><div class=\"GameCardMatchup_matchScorecardAlignRight__n20ov\"></div></div><article class=\"GameCardMatchup_article__Fsvx9\"><figure class=\"MatchupCardTeamLogo_base__WZl01 GameCardMatchup_matchupCardTeamLogo__ZqZXC\"><div class=\"TeamLogo_block__rSWmO\"><img alt=\" Logo\" class=\"TeamLogo_logo__PclAJ\" loading=\"lazy\" src=\"https://cdn.nba.com/logos/nba/1610612740/primary/L/logo.svg\" title=\" Logo\"/></div></figure><div class=\"MatchupCardTeamName_base__PBkuX\" data-team-id=\"1610612740\"><span class=\"MatchupCardTeamName_teamName__9YaBA\">Pelicans</span></div><p class=\"MatchupCardTeamRecord_record__20YHe\">-</p></article></div></a><ul class=\"Tabs_tab__rnewb\" data-has-rounded-ctas=\"true\" data-show-border=\"true\"><li class=\"TabLink_tab__uKOPj\"><a class=\"Anchor_anchor__cSc3P TabLink_link__f_15h\" data-content=\"0022400164\" data-has-children=\"true\" data-has-more=\"false\" data-id=\"nba:games:watch:cta\" data-is-external=\"false\" data-premium=\"true\" data-section=\"games\" data-text=\"POR @ NOP\" data-track=\"video\" href=\"/game/por-vs-nop-0022400164?watchFullGame\"><svg data-no-icon=\"true\" fill=\"none\" height=\"16\" role=\"presentation\" viewbox=\"0 0 17 16\" width=\"17\" xmlns=\"http://www.w3.org/2000/svg\"><path d=\"M13.3335 7.13398C14.0002 7.51888 14.0002 8.48113 13.3335 8.86603L6.3335 12.9075C5.66683 13.2924 4.8335 12.8113 4.8335 12.0415L4.8335 3.95855C4.8335 3.18875 5.66683 2.70763 6.3335 3.09253L13.3335 7.13398Z\" fill=\"black\"></path></svg>Watch</a></li><li class=\"TabLink_tab__uKOPj\"><a class=\"Anchor_anchor__cSc3P TabLink_link__f_15h\" data-content=\"POR @ NOP\" data-content-id=\"0022400164\" data-has-children=\"true\" data-has-more=\"false\" data-id=\"nba:games:main:box-score:cta\" data-is-external=\"false\" data-section=\"games\" data-text=\"BOX SCORE\" data-track=\"click\" data-type=\"cta\" href=\"/game/por-vs-nop-0022400164/box-score#box-score\">Box score</a></li><li class=\"TabLink_tab__uKOPj\"><a class=\"Anchor_anchor__cSc3P TabLink_link__f_15h\" data-content=\"POR @ NOP\" data-content-id=\"0022400164\" data-has-children=\"true\" data-has-more=\"false\" data-id=\"nba:games:main:game-details:cta\" data-is-external=\"false\" data-section=\"games\" data-text=\"GAME DETAILS\" data-track=\"click\" data-type=\"cta\" href=\"/game/por-vs-nop-0022400164\">Game details</a></li></ul><a data-content=\"POR @ NOP, 2024-11-04\" data-content-type=\"packages\" data-id=\"nba:games:subscribe:undefined\" data-section=\"game:broadcasters\" data-text=\"League Pass\" data-track=\"click\" href=\"https://www.nba.com/watch/league-pass-stream\"><div class=\"PlayIconPrefix_container__PyxKT\" data-has-margins=\"true\" data-testid=\"htw-lp\"><svg class=\"PlayIconPrefix_playIcon__Jgm__\" data-no-icon=\"true\" fill=\"none\" height=\"14\" role=\"presentation\" viewbox=\"0 0 14 14\" width=\"14\" xmlns=\"http://www.w3.org/2000/svg\"><circle cx=\"7\" cy=\"7\" fill=\"#FBCD44\" r=\"7\"></circle><path d=\"M10.15 7.35001L5.25 10.5L5.25 4.20001L10.15 7.35001Z\" fill=\"black\"></path></svg>League Pass</div></a></section>\n",
      "<section class=\"GameCard_gcMain__q1lUW\"><a class=\"GameCard_gcm__SKtfh GameCardMatchup_gameCardMatchup__H0uPe\" href=\"/game/ind-vs-dal-0022400165\"><div class=\"GameCardMatchup_wrapper__uUdW8\"><article class=\"GameCardMatchup_article__Fsvx9\"><figure class=\"MatchupCardTeamLogo_base__WZl01 GameCardMatchup_matchupCardTeamLogo__ZqZXC\"><div class=\"TeamLogo_block__rSWmO\"><img alt=\" Logo\" class=\"TeamLogo_logo__PclAJ\" loading=\"lazy\" src=\"https://cdn.nba.com/logos/nba/1610612754/primary/L/logo.svg\" title=\" Logo\"/></div></figure><div class=\"MatchupCardTeamName_base__PBkuX\" data-team-id=\"1610612754\"><span class=\"MatchupCardTeamName_teamName__9YaBA\">Pacers</span></div><p class=\"MatchupCardTeamRecord_record__20YHe\">-</p></article><div class=\"GameCardMatchup_statusWrapper__TDbQz\"><div class=\"GameCardMatchup_matchupScoreCardWrapper__X50gw\"></div><div class=\"GameCardMatchup_gameCardMatchupStatusWrapper__8rQ8v\"><div><div class=\"GameCardMatchupStatusText_gcs__2yfjE\" data-game-status=\"3\" data-is-preseason=\"false\"><p class=\"GameCardMatchupStatusText_gcsText__PcQUX\" data-is-live=\"false\" data-testid=\"game-status\">FINAL</p></div></div><svg class=\"GameCardMatchup_awayWin__zD021\" height=\"12\" role=\"presentation\" viewbox=\"0 0 7 12\" width=\"7\" xmlns=\"http://www.w3.org/2000/svg\"><path d=\"M.5 6l6 5.5V.5z\" fill=\"currentColor\" fill-rule=\"nonzero\"></path></svg><svg class=\"GameCardMatchup_homeWin__5E_iM\" data-no-icon=\"right\" height=\"12\" role=\"presentation\" viewbox=\"0 0 7 12\" width=\"7\" xmlns=\"http://www.w3.org/2000/svg\"><path d=\"M.5 6l6 5.5V.5z\" fill=\"currentColor\" fill-rule=\"nonzero\"></path></svg></div><div class=\"GameCardMatchup_matchScorecardAlignRight__n20ov\"></div></div><article class=\"GameCardMatchup_article__Fsvx9\"><figure class=\"MatchupCardTeamLogo_base__WZl01 GameCardMatchup_matchupCardTeamLogo__ZqZXC\"><div class=\"TeamLogo_block__rSWmO\"><img alt=\" Logo\" class=\"TeamLogo_logo__PclAJ\" loading=\"lazy\" src=\"https://cdn.nba.com/logos/nba/1610612742/primary/L/logo.svg\" title=\" Logo\"/></div></figure><div class=\"MatchupCardTeamName_base__PBkuX\" data-team-id=\"1610612742\"><span class=\"MatchupCardTeamName_teamName__9YaBA\">Mavericks</span></div><p class=\"MatchupCardTeamRecord_record__20YHe\">-</p></article></div></a><ul class=\"Tabs_tab__rnewb\" data-has-rounded-ctas=\"true\" data-show-border=\"true\"><li class=\"TabLink_tab__uKOPj\"><a class=\"Anchor_anchor__cSc3P TabLink_link__f_15h\" data-content=\"0022400165\" data-has-children=\"true\" data-has-more=\"false\" data-id=\"nba:games:watch:cta\" data-is-external=\"false\" data-premium=\"true\" data-section=\"games\" data-text=\"IND @ DAL\" data-track=\"video\" href=\"/game/ind-vs-dal-0022400165?watchFullGame\"><svg data-no-icon=\"true\" fill=\"none\" height=\"16\" role=\"presentation\" viewbox=\"0 0 17 16\" width=\"17\" xmlns=\"http://www.w3.org/2000/svg\"><path d=\"M13.3335 7.13398C14.0002 7.51888 14.0002 8.48113 13.3335 8.86603L6.3335 12.9075C5.66683 13.2924 4.8335 12.8113 4.8335 12.0415L4.8335 3.95855C4.8335 3.18875 5.66683 2.70763 6.3335 3.09253L13.3335 7.13398Z\" fill=\"black\"></path></svg>Watch</a></li><li class=\"TabLink_tab__uKOPj\"><a class=\"Anchor_anchor__cSc3P TabLink_link__f_15h\" data-content=\"IND @ DAL\" data-content-id=\"0022400165\" data-has-children=\"true\" data-has-more=\"false\" data-id=\"nba:games:main:box-score:cta\" data-is-external=\"false\" data-section=\"games\" data-text=\"BOX SCORE\" data-track=\"click\" data-type=\"cta\" href=\"/game/ind-vs-dal-0022400165/box-score#box-score\">Box score</a></li><li class=\"TabLink_tab__uKOPj\"><a class=\"Anchor_anchor__cSc3P TabLink_link__f_15h\" data-content=\"IND @ DAL\" data-content-id=\"0022400165\" data-has-children=\"true\" data-has-more=\"false\" data-id=\"nba:games:main:game-details:cta\" data-is-external=\"false\" data-section=\"games\" data-text=\"GAME DETAILS\" data-track=\"click\" data-type=\"cta\" href=\"/game/ind-vs-dal-0022400165\">Game details</a></li></ul><a data-content=\"IND @ DAL, 2024-11-04\" data-content-type=\"packages\" data-id=\"nba:games:subscribe:undefined\" data-section=\"game:broadcasters\" data-text=\"League Pass\" data-track=\"click\" href=\"https://www.nba.com/watch/league-pass-stream\"><div class=\"PlayIconPrefix_container__PyxKT\" data-has-margins=\"true\" data-testid=\"htw-lp\"><svg class=\"PlayIconPrefix_playIcon__Jgm__\" data-no-icon=\"true\" fill=\"none\" height=\"14\" role=\"presentation\" viewbox=\"0 0 14 14\" width=\"14\" xmlns=\"http://www.w3.org/2000/svg\"><circle cx=\"7\" cy=\"7\" fill=\"#FBCD44\" r=\"7\"></circle><path d=\"M10.15 7.35001L5.25 10.5L5.25 4.20001L10.15 7.35001Z\" fill=\"black\"></path></svg>League Pass</div></a></section>\n",
      "<section class=\"GameCard_gcMain__q1lUW\"><a class=\"GameCard_gcm__SKtfh GameCardMatchup_gameCardMatchup__H0uPe\" href=\"/game/tor-vs-den-0022400166\"><div class=\"GameCardMatchup_wrapper__uUdW8\"><article class=\"GameCardMatchup_article__Fsvx9\"><figure class=\"MatchupCardTeamLogo_base__WZl01 GameCardMatchup_matchupCardTeamLogo__ZqZXC\"><div class=\"TeamLogo_block__rSWmO\"><img alt=\" Logo\" class=\"TeamLogo_logo__PclAJ\" loading=\"lazy\" src=\"https://cdn.nba.com/logos/nba/1610612761/primary/L/logo.svg\" title=\" Logo\"/></div></figure><div class=\"MatchupCardTeamName_base__PBkuX\" data-team-id=\"1610612761\"><span class=\"MatchupCardTeamName_teamName__9YaBA\">Raptors</span></div><p class=\"MatchupCardTeamRecord_record__20YHe\">-</p></article><div class=\"GameCardMatchup_statusWrapper__TDbQz\"><div class=\"GameCardMatchup_matchupScoreCardWrapper__X50gw\"></div><div class=\"GameCardMatchup_gameCardMatchupStatusWrapper__8rQ8v\"><div><div class=\"GameCardMatchupStatusText_gcs__2yfjE\" data-game-status=\"3\" data-is-preseason=\"false\"><p class=\"GameCardMatchupStatusText_gcsText__PcQUX\" data-is-live=\"false\" data-testid=\"game-status\">FINAL</p></div></div><svg class=\"GameCardMatchup_awayWin__zD021\" height=\"12\" role=\"presentation\" viewbox=\"0 0 7 12\" width=\"7\" xmlns=\"http://www.w3.org/2000/svg\"><path d=\"M.5 6l6 5.5V.5z\" fill=\"currentColor\" fill-rule=\"nonzero\"></path></svg><svg class=\"GameCardMatchup_homeWin__5E_iM\" data-no-icon=\"right\" height=\"12\" role=\"presentation\" viewbox=\"0 0 7 12\" width=\"7\" xmlns=\"http://www.w3.org/2000/svg\"><path d=\"M.5 6l6 5.5V.5z\" fill=\"currentColor\" fill-rule=\"nonzero\"></path></svg></div><div class=\"GameCardMatchup_matchScorecardAlignRight__n20ov\"></div></div><article class=\"GameCardMatchup_article__Fsvx9\"><figure class=\"MatchupCardTeamLogo_base__WZl01 GameCardMatchup_matchupCardTeamLogo__ZqZXC\"><div class=\"TeamLogo_block__rSWmO\"><img alt=\" Logo\" class=\"TeamLogo_logo__PclAJ\" loading=\"lazy\" src=\"https://cdn.nba.com/logos/nba/1610612743/primary/L/logo.svg\" title=\" Logo\"/></div></figure><div class=\"MatchupCardTeamName_base__PBkuX\" data-team-id=\"1610612743\"><span class=\"MatchupCardTeamName_teamName__9YaBA\">Nuggets</span></div><p class=\"MatchupCardTeamRecord_record__20YHe\">-</p></article></div></a><ul class=\"Tabs_tab__rnewb\" data-has-rounded-ctas=\"true\" data-show-border=\"true\"><li class=\"TabLink_tab__uKOPj\"><a class=\"Anchor_anchor__cSc3P TabLink_link__f_15h\" data-content=\"0022400166\" data-has-children=\"true\" data-has-more=\"false\" data-id=\"nba:games:watch:cta\" data-is-external=\"false\" data-premium=\"true\" data-section=\"games\" data-text=\"TOR @ DEN\" data-track=\"video\" href=\"/game/tor-vs-den-0022400166?watchFullGame\"><svg data-no-icon=\"true\" fill=\"none\" height=\"16\" role=\"presentation\" viewbox=\"0 0 17 16\" width=\"17\" xmlns=\"http://www.w3.org/2000/svg\"><path d=\"M13.3335 7.13398C14.0002 7.51888 14.0002 8.48113 13.3335 8.86603L6.3335 12.9075C5.66683 13.2924 4.8335 12.8113 4.8335 12.0415L4.8335 3.95855C4.8335 3.18875 5.66683 2.70763 6.3335 3.09253L13.3335 7.13398Z\" fill=\"black\"></path></svg>Watch</a></li><li class=\"TabLink_tab__uKOPj\"><a class=\"Anchor_anchor__cSc3P TabLink_link__f_15h\" data-content=\"TOR @ DEN\" data-content-id=\"0022400166\" data-has-children=\"true\" data-has-more=\"false\" data-id=\"nba:games:main:box-score:cta\" data-is-external=\"false\" data-section=\"games\" data-text=\"BOX SCORE\" data-track=\"click\" data-type=\"cta\" href=\"/game/tor-vs-den-0022400166/box-score#box-score\">Box score</a></li><li class=\"TabLink_tab__uKOPj\"><a class=\"Anchor_anchor__cSc3P TabLink_link__f_15h\" data-content=\"TOR @ DEN\" data-content-id=\"0022400166\" data-has-children=\"true\" data-has-more=\"false\" data-id=\"nba:games:main:game-details:cta\" data-is-external=\"false\" data-section=\"games\" data-text=\"GAME DETAILS\" data-track=\"click\" data-type=\"cta\" href=\"/game/tor-vs-den-0022400166\">Game details</a></li></ul><a data-content=\"TOR @ DEN, 2024-11-04\" data-content-type=\"packages\" data-id=\"nba:games:subscribe:undefined\" data-section=\"game:broadcasters\" data-text=\"League Pass\" data-track=\"click\" href=\"https://www.nba.com/watch/league-pass-stream\"><div class=\"PlayIconPrefix_container__PyxKT\" data-has-margins=\"true\" data-testid=\"htw-lp\"><svg class=\"PlayIconPrefix_playIcon__Jgm__\" data-no-icon=\"true\" fill=\"none\" height=\"14\" role=\"presentation\" viewbox=\"0 0 14 14\" width=\"14\" xmlns=\"http://www.w3.org/2000/svg\"><circle cx=\"7\" cy=\"7\" fill=\"#FBCD44\" r=\"7\"></circle><path d=\"M10.15 7.35001L5.25 10.5L5.25 4.20001L10.15 7.35001Z\" fill=\"black\"></path></svg>League Pass</div></a></section>\n",
      "<section class=\"GameCard_gcMain__q1lUW\"><a class=\"GameCard_gcm__SKtfh GameCardMatchup_gameCardMatchup__H0uPe\" href=\"/game/phi-vs-phx-0022400167\"><div class=\"GameCardMatchup_wrapper__uUdW8\"><article class=\"GameCardMatchup_article__Fsvx9\"><figure class=\"MatchupCardTeamLogo_base__WZl01 GameCardMatchup_matchupCardTeamLogo__ZqZXC\"><div class=\"TeamLogo_block__rSWmO\"><img alt=\" Logo\" class=\"TeamLogo_logo__PclAJ\" loading=\"lazy\" src=\"https://cdn.nba.com/logos/nba/1610612755/primary/L/logo.svg\" title=\" Logo\"/></div></figure><div class=\"MatchupCardTeamName_base__PBkuX\" data-team-id=\"1610612755\"><span class=\"MatchupCardTeamName_teamName__9YaBA\">76ers</span></div><p class=\"MatchupCardTeamRecord_record__20YHe\">-</p></article><div class=\"GameCardMatchup_statusWrapper__TDbQz\"><div class=\"GameCardMatchup_matchupScoreCardWrapper__X50gw\"></div><div class=\"GameCardMatchup_gameCardMatchupStatusWrapper__8rQ8v\"><div><div class=\"GameCardMatchupStatusText_gcs__2yfjE\" data-game-status=\"3\" data-is-preseason=\"false\"><p class=\"GameCardMatchupStatusText_gcsText__PcQUX\" data-is-live=\"false\" data-testid=\"game-status\">FINAL</p></div></div><svg class=\"GameCardMatchup_awayWin__zD021\" height=\"12\" role=\"presentation\" viewbox=\"0 0 7 12\" width=\"7\" xmlns=\"http://www.w3.org/2000/svg\"><path d=\"M.5 6l6 5.5V.5z\" fill=\"currentColor\" fill-rule=\"nonzero\"></path></svg><svg class=\"GameCardMatchup_homeWin__5E_iM\" data-no-icon=\"right\" height=\"12\" role=\"presentation\" viewbox=\"0 0 7 12\" width=\"7\" xmlns=\"http://www.w3.org/2000/svg\"><path d=\"M.5 6l6 5.5V.5z\" fill=\"currentColor\" fill-rule=\"nonzero\"></path></svg></div><div class=\"GameCardMatchup_matchScorecardAlignRight__n20ov\"></div></div><article class=\"GameCardMatchup_article__Fsvx9\"><figure class=\"MatchupCardTeamLogo_base__WZl01 GameCardMatchup_matchupCardTeamLogo__ZqZXC\"><div class=\"TeamLogo_block__rSWmO\"><img alt=\" Logo\" class=\"TeamLogo_logo__PclAJ\" loading=\"lazy\" src=\"https://cdn.nba.com/logos/nba/1610612756/primary/L/logo.svg\" title=\" Logo\"/></div></figure><div class=\"MatchupCardTeamName_base__PBkuX\" data-team-id=\"1610612756\"><span class=\"MatchupCardTeamName_teamName__9YaBA\">Suns</span></div><p class=\"MatchupCardTeamRecord_record__20YHe\">-</p></article></div></a><ul class=\"Tabs_tab__rnewb\" data-has-rounded-ctas=\"true\" data-show-border=\"true\"><li class=\"TabLink_tab__uKOPj\"><a class=\"Anchor_anchor__cSc3P TabLink_link__f_15h\" data-content=\"0022400167\" data-has-children=\"true\" data-has-more=\"false\" data-id=\"nba:games:watch:cta\" data-is-external=\"false\" data-premium=\"true\" data-section=\"games\" data-text=\"PHI @ PHX\" data-track=\"video\" href=\"/game/phi-vs-phx-0022400167?watchFullGame\"><svg data-no-icon=\"true\" fill=\"none\" height=\"16\" role=\"presentation\" viewbox=\"0 0 17 16\" width=\"17\" xmlns=\"http://www.w3.org/2000/svg\"><path d=\"M13.3335 7.13398C14.0002 7.51888 14.0002 8.48113 13.3335 8.86603L6.3335 12.9075C5.66683 13.2924 4.8335 12.8113 4.8335 12.0415L4.8335 3.95855C4.8335 3.18875 5.66683 2.70763 6.3335 3.09253L13.3335 7.13398Z\" fill=\"black\"></path></svg>Watch</a></li><li class=\"TabLink_tab__uKOPj\"><a class=\"Anchor_anchor__cSc3P TabLink_link__f_15h\" data-content=\"PHI @ PHX\" data-content-id=\"0022400167\" data-has-children=\"true\" data-has-more=\"false\" data-id=\"nba:games:main:box-score:cta\" data-is-external=\"false\" data-section=\"games\" data-text=\"BOX SCORE\" data-track=\"click\" data-type=\"cta\" href=\"/game/phi-vs-phx-0022400167/box-score#box-score\">Box score</a></li><li class=\"TabLink_tab__uKOPj\"><a class=\"Anchor_anchor__cSc3P TabLink_link__f_15h\" data-content=\"PHI @ PHX\" data-content-id=\"0022400167\" data-has-children=\"true\" data-has-more=\"false\" data-id=\"nba:games:main:game-details:cta\" data-is-external=\"false\" data-section=\"games\" data-text=\"GAME DETAILS\" data-track=\"click\" data-type=\"cta\" href=\"/game/phi-vs-phx-0022400167\">Game details</a></li></ul><a data-content=\"PHI @ PHX, 2024-11-04\" data-content-type=\"packages\" data-id=\"nba:games:subscribe:undefined\" data-section=\"game:broadcasters\" data-text=\"League Pass\" data-track=\"click\" href=\"https://www.nba.com/watch/league-pass-stream\"><div class=\"PlayIconPrefix_container__PyxKT\" data-has-margins=\"true\" data-testid=\"htw-lp\"><svg class=\"PlayIconPrefix_playIcon__Jgm__\" data-no-icon=\"true\" fill=\"none\" height=\"14\" role=\"presentation\" viewbox=\"0 0 14 14\" width=\"14\" xmlns=\"http://www.w3.org/2000/svg\"><circle cx=\"7\" cy=\"7\" fill=\"#FBCD44\" r=\"7\"></circle><path d=\"M10.15 7.35001L5.25 10.5L5.25 4.20001L10.15 7.35001Z\" fill=\"black\"></path></svg>League Pass</div></a></section>\n",
      "<section class=\"GameCard_gcMain__q1lUW\"><a class=\"GameCard_gcm__SKtfh GameCardMatchup_gameCardMatchup__H0uPe\" href=\"/game/sas-vs-lac-0022400168\"><div class=\"GameCardMatchup_wrapper__uUdW8\"><article class=\"GameCardMatchup_article__Fsvx9\"><figure class=\"MatchupCardTeamLogo_base__WZl01 GameCardMatchup_matchupCardTeamLogo__ZqZXC\"><div class=\"TeamLogo_block__rSWmO\"><img alt=\" Logo\" class=\"TeamLogo_logo__PclAJ\" loading=\"lazy\" src=\"https://cdn.nba.com/logos/nba/1610612759/primary/L/logo.svg\" title=\" Logo\"/></div></figure><div class=\"MatchupCardTeamName_base__PBkuX\" data-team-id=\"1610612759\"><span class=\"MatchupCardTeamName_teamName__9YaBA\">Spurs</span></div><p class=\"MatchupCardTeamRecord_record__20YHe\">-</p></article><div class=\"GameCardMatchup_statusWrapper__TDbQz\"><div class=\"GameCardMatchup_matchupScoreCardWrapper__X50gw\"></div><div class=\"GameCardMatchup_gameCardMatchupStatusWrapper__8rQ8v\"><div><div class=\"GameCardMatchupStatusText_gcs__2yfjE\" data-game-status=\"3\" data-is-preseason=\"false\"><p class=\"GameCardMatchupStatusText_gcsText__PcQUX\" data-is-live=\"false\" data-testid=\"game-status\">FINAL</p></div></div><svg class=\"GameCardMatchup_awayWin__zD021\" height=\"12\" role=\"presentation\" viewbox=\"0 0 7 12\" width=\"7\" xmlns=\"http://www.w3.org/2000/svg\"><path d=\"M.5 6l6 5.5V.5z\" fill=\"currentColor\" fill-rule=\"nonzero\"></path></svg><svg class=\"GameCardMatchup_homeWin__5E_iM\" data-no-icon=\"right\" height=\"12\" role=\"presentation\" viewbox=\"0 0 7 12\" width=\"7\" xmlns=\"http://www.w3.org/2000/svg\"><path d=\"M.5 6l6 5.5V.5z\" fill=\"currentColor\" fill-rule=\"nonzero\"></path></svg></div><div class=\"GameCardMatchup_matchScorecardAlignRight__n20ov\"></div></div><article class=\"GameCardMatchup_article__Fsvx9\"><figure class=\"MatchupCardTeamLogo_base__WZl01 GameCardMatchup_matchupCardTeamLogo__ZqZXC\"><div class=\"TeamLogo_block__rSWmO\"><img alt=\" Logo\" class=\"TeamLogo_logo__PclAJ\" loading=\"lazy\" src=\"https://cdn.nba.com/logos/nba/1610612746/primary/L/logo.svg\" title=\" Logo\"/></div></figure><div class=\"MatchupCardTeamName_base__PBkuX\" data-team-id=\"1610612746\"><span class=\"MatchupCardTeamName_teamName__9YaBA\">Clippers</span></div><p class=\"MatchupCardTeamRecord_record__20YHe\">-</p></article></div></a><ul class=\"Tabs_tab__rnewb\" data-has-rounded-ctas=\"true\" data-show-border=\"true\"><li class=\"TabLink_tab__uKOPj\"><a class=\"Anchor_anchor__cSc3P TabLink_link__f_15h\" data-content=\"0022400168\" data-has-children=\"true\" data-has-more=\"false\" data-id=\"nba:games:watch:cta\" data-is-external=\"false\" data-premium=\"true\" data-section=\"games\" data-text=\"SAS @ LAC\" data-track=\"video\" href=\"/game/sas-vs-lac-0022400168?watchFullGame\"><svg data-no-icon=\"true\" fill=\"none\" height=\"16\" role=\"presentation\" viewbox=\"0 0 17 16\" width=\"17\" xmlns=\"http://www.w3.org/2000/svg\"><path d=\"M13.3335 7.13398C14.0002 7.51888 14.0002 8.48113 13.3335 8.86603L6.3335 12.9075C5.66683 13.2924 4.8335 12.8113 4.8335 12.0415L4.8335 3.95855C4.8335 3.18875 5.66683 2.70763 6.3335 3.09253L13.3335 7.13398Z\" fill=\"black\"></path></svg>Watch</a></li><li class=\"TabLink_tab__uKOPj\"><a class=\"Anchor_anchor__cSc3P TabLink_link__f_15h\" data-content=\"SAS @ LAC\" data-content-id=\"0022400168\" data-has-children=\"true\" data-has-more=\"false\" data-id=\"nba:games:main:box-score:cta\" data-is-external=\"false\" data-section=\"games\" data-text=\"BOX SCORE\" data-track=\"click\" data-type=\"cta\" href=\"/game/sas-vs-lac-0022400168/box-score#box-score\">Box score</a></li><li class=\"TabLink_tab__uKOPj\"><a class=\"Anchor_anchor__cSc3P TabLink_link__f_15h\" data-content=\"SAS @ LAC\" data-content-id=\"0022400168\" data-has-children=\"true\" data-has-more=\"false\" data-id=\"nba:games:main:game-details:cta\" data-is-external=\"false\" data-section=\"games\" data-text=\"GAME DETAILS\" data-track=\"click\" data-type=\"cta\" href=\"/game/sas-vs-lac-0022400168\">Game details</a></li></ul><a data-content=\"SAS @ LAC, 2024-11-04\" data-content-type=\"packages\" data-id=\"nba:games:subscribe:undefined\" data-section=\"game:broadcasters\" data-text=\"League Pass\" data-track=\"click\" href=\"https://www.nba.com/watch/league-pass-stream\"><div class=\"PlayIconPrefix_container__PyxKT\" data-has-margins=\"true\" data-testid=\"htw-lp\"><svg class=\"PlayIconPrefix_playIcon__Jgm__\" data-no-icon=\"true\" fill=\"none\" height=\"14\" role=\"presentation\" viewbox=\"0 0 14 14\" width=\"14\" xmlns=\"http://www.w3.org/2000/svg\"><circle cx=\"7\" cy=\"7\" fill=\"#FBCD44\" r=\"7\"></circle><path d=\"M10.15 7.35001L5.25 10.5L5.25 4.20001L10.15 7.35001Z\" fill=\"black\"></path></svg>League Pass</div></a></section>\n"
     ]
    }
   ],
   "source": [
    "#get game cards\n",
    "soup = BeautifulSoup(response.content, 'html.parser')\n",
    "gameCards = soup.find_all('section', class_=re.compile('GameCard_gcMain__q1lUW'))\n",
    "for card in gameCards:\n",
    "    print(card)"
   ]
  },
  {
   "cell_type": "code",
   "execution_count": 9,
   "metadata": {},
   "outputs": [
    {
     "name": "stdout",
     "output_type": "stream",
     "text": [
      "Bucks vs Cavaliers\n"
     ]
    }
   ],
   "source": [
    "teamNames = gameCards[0].find_all('span', class_=re.compile('MatchupCardTeamName_teamName__9YaBA'))\n",
    "awayTeam = teamNames[0].text.strip()\n",
    "homeTeam = teamNames[1].text.strip()\n",
    "print(f'{awayTeam} vs {homeTeam}')"
   ]
  },
  {
   "cell_type": "code",
   "execution_count": 16,
   "metadata": {},
   "outputs": [
    {
     "name": "stdout",
     "output_type": "stream",
     "text": [
      "<a class=\"GameCard_gcm__SKtfh GameCardMatchup_gameCardMatchup__H0uPe\" href=\"/game/mil-vs-cle-0022400154\"><div class=\"GameCardMatchup_wrapper__uUdW8\"><article class=\"GameCardMatchup_article__Fsvx9\"><figure class=\"MatchupCardTeamLogo_base__WZl01 GameCardMatchup_matchupCardTeamLogo__ZqZXC\"><div class=\"TeamLogo_block__rSWmO\"><img alt=\" Logo\" class=\"TeamLogo_logo__PclAJ\" loading=\"lazy\" src=\"https://cdn.nba.com/logos/nba/1610612749/primary/L/logo.svg\" title=\" Logo\"/></div></figure><div class=\"MatchupCardTeamName_base__PBkuX\" data-team-id=\"1610612749\"><span class=\"MatchupCardTeamName_teamName__9YaBA\">Bucks</span></div><p class=\"MatchupCardTeamRecord_record__20YHe\">-</p></article><div class=\"GameCardMatchup_statusWrapper__TDbQz\"><div class=\"GameCardMatchup_matchupScoreCardWrapper__X50gw\"></div><div class=\"GameCardMatchup_gameCardMatchupStatusWrapper__8rQ8v\"><div><div class=\"GameCardMatchupStatusText_gcs__2yfjE\" data-game-status=\"3\" data-is-preseason=\"false\"><p class=\"GameCardMatchupStatusText_gcsText__PcQUX\" data-is-live=\"false\" data-testid=\"game-status\">FINAL</p></div></div><svg class=\"GameCardMatchup_awayWin__zD021\" height=\"12\" role=\"presentation\" viewbox=\"0 0 7 12\" width=\"7\" xmlns=\"http://www.w3.org/2000/svg\"><path d=\"M.5 6l6 5.5V.5z\" fill=\"currentColor\" fill-rule=\"nonzero\"></path></svg><svg class=\"GameCardMatchup_homeWin__5E_iM\" data-no-icon=\"right\" height=\"12\" role=\"presentation\" viewbox=\"0 0 7 12\" width=\"7\" xmlns=\"http://www.w3.org/2000/svg\"><path d=\"M.5 6l6 5.5V.5z\" fill=\"currentColor\" fill-rule=\"nonzero\"></path></svg></div><div class=\"GameCardMatchup_matchScorecardAlignRight__n20ov\"></div></div><article class=\"GameCardMatchup_article__Fsvx9\"><figure class=\"MatchupCardTeamLogo_base__WZl01 GameCardMatchup_matchupCardTeamLogo__ZqZXC\"><div class=\"TeamLogo_block__rSWmO\"><img alt=\" Logo\" class=\"TeamLogo_logo__PclAJ\" loading=\"lazy\" src=\"https://cdn.nba.com/logos/nba/1610612739/primary/L/logo.svg\" title=\" Logo\"/></div></figure><div class=\"MatchupCardTeamName_base__PBkuX\" data-team-id=\"1610612739\"><span class=\"MatchupCardTeamName_teamName__9YaBA\">Cavaliers</span></div><p class=\"MatchupCardTeamRecord_record__20YHe\">-</p></article></div></a>\n"
     ]
    }
   ],
   "source": [
    "links = soup.find_all('a', class_=re.compile('GameCard_gcm__SKtfh GameCardMatchup_gameCardMatchup__H0uPe'))\n",
    "print(links[0])"
   ]
  },
  {
   "cell_type": "code",
   "execution_count": 17,
   "metadata": {},
   "outputs": [
    {
     "name": "stdout",
     "output_type": "stream",
     "text": [
      "/game/mil-vs-cle-0022400154\n"
     ]
    }
   ],
   "source": [
    "href = links[0].get('href')\n",
    "print(href)"
   ]
  },
  {
   "cell_type": "code",
   "execution_count": 32,
   "metadata": {},
   "outputs": [
    {
     "name": "stdout",
     "output_type": "stream",
     "text": [
      "<Response [200]>\n"
     ]
    }
   ],
   "source": [
    "url1 = f'https://www.nba.com/games{href}'\n",
    "\n",
    "payload = \"\"\n",
    "headers = {\n",
    "    \"cookie\": \"_tapology_mma_session=%252BnGrxOO8u60FBkwjnPf5U9cMUlW%252B%252F76dZtFNqnrNzBiOvQybvXmEnNM%252Fu1%252BEvOx0w4zOYLO6aIlNCfl8UnsrtSYiMl2eRJHAyiBcnd2iP0A0MCwFxGErsRcK9jbT%252BixWWetj2aX%252FvsQSBYea%252Fe73CRDIdSn95lPxaMgzhrkIGIY2KzurUSeLm0hoWxHQyq01nb7UJfYbF53mL1vhZO1yAYpprixBeuhXy70HLYlQemANkpVvl7tT0Z5DTe68LgVyn8qXKLn1hOvclfkBIfaVwBd1HyV5eIRqOMicbIQ%253D--%252BzoeexZ3ARMoGYGy--kqTFUNtOGR74GqxibycT1g%253D%253D\",\n",
    "    \"User-Agent\":'Mozilla/5.0 (Windows NT 10.0; Win64; x64) AppleWebKit/537.36 (KHTML, like Gecko) Chrome/114.0.0.0 Safari/537.36'\n",
    "\n",
    "}\n",
    "proxy = random.choice(proxylist)\n",
    "response = requests.request(\"GET\", url1, data=payload, headers=headers, proxies={'http': f\"http://{proxy}, 'https:'https/{proxy}\"})\n",
    "print(response)\n",
    "\n"
   ]
  },
  {
   "cell_type": "code",
   "execution_count": 33,
   "metadata": {},
   "outputs": [
    {
     "name": "stdout",
     "output_type": "stream",
     "text": [
      "Element not found\n"
     ]
    }
   ],
   "source": [
    "#get game cards\n",
    "driver = webdriver.Chrome()  # Or another WebDriver (e.g., Firefox, Edge)\n",
    "driver.get(url)\n",
    "\n",
    "# Wait for the content to load (optional, depends on page load behavior)\n",
    "driver.implicitly_wait(5)\n",
    "\n",
    "driver.get(url1)\n",
    "\n",
    "# Get the page source and parse it with Beautiful Soup\n",
    "page_source = driver.page_source\n",
    "soup = BeautifulSoup(page_source, 'html.parser')\n",
    "\n",
    "# Find the desired element\n",
    "div = soup.find('div', class_=re.compile('GameSummary_lineScoreSmBox__jYfTR'))\n",
    "if div:\n",
    "    print(div.text)  # Print or extract data as needed\n",
    "else:\n",
    "    print(\"Element not found\")\n",
    "\n"
   ]
  }
 ],
 "metadata": {
  "kernelspec": {
   "display_name": "temp",
   "language": "python",
   "name": "python3"
  },
  "language_info": {
   "codemirror_mode": {
    "name": "ipython",
    "version": 3
   },
   "file_extension": ".py",
   "mimetype": "text/x-python",
   "name": "python",
   "nbconvert_exporter": "python",
   "pygments_lexer": "ipython3",
   "version": "3.10.11"
  }
 },
 "nbformat": 4,
 "nbformat_minor": 2
}
