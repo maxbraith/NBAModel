{
 "cells": [
  {
   "cell_type": "code",
   "execution_count": 7,
   "metadata": {},
   "outputs": [
    {
     "name": "stdout",
     "output_type": "stream",
     "text": [
      "Dataset updated with 'season' column and saved to basketball_games_with_season.csv\n"
     ]
    }
   ],
   "source": [
    "import pandas as pd\n",
    "\n",
    "# Load the dataset\n",
    "input_file = \"CopyOfData.csv\"  # Replace with the path to your file\n",
    "output_file = \"basketball_games_with_season.csv\"  # Output file path\n",
    "\n",
    "# Read the data into a DataFrame\n",
    "df = pd.read_csv(input_file)\n",
    "\n",
    "# Convert the `date` column to datetime format\n",
    "df['date'] = pd.to_datetime(df['date'])\n",
    "\n",
    "# Function to calculate the season\n",
    "def get_season(date):\n",
    "    year = date.year\n",
    "    if date.month >= 10:  # October to December belong to the current year's season\n",
    "        return f\"{year}-{year + 1}\"\n",
    "    else:  # January to June belong to the previous year's season\n",
    "        return f\"{year - 1}-{year}\"\n",
    "\n",
    "# Apply the season calculation to the DataFrame\n",
    "df['season'] = df['date'].apply(get_season)\n",
    "\n",
    "# Save the updated DataFrame back to a new CSV file\n",
    "df.to_csv(output_file, index=False)\n",
    "\n",
    "print(f\"Dataset updated with 'season' column and saved to {output_file}\")"
   ]
  },
  {
   "cell_type": "code",
   "execution_count": 8,
   "metadata": {},
   "outputs": [
    {
     "name": "stdout",
     "output_type": "stream",
     "text": [
      "Dataset updated with dynamic win percentages (resetting each season) and saved to basketball_games_with_win_percentage.csv\n"
     ]
    },
    {
     "name": "stderr",
     "output_type": "stream",
     "text": [
      "/var/folders/v3/tynf_31524q1s5y0t260lswr0000gn/T/ipykernel_42777/707611966.py:56: DeprecationWarning: DataFrameGroupBy.apply operated on the grouping columns. This behavior is deprecated, and in a future version of pandas the grouping columns will be excluded from the operation. Either pass `include_groups=False` to exclude the groupings or explicitly select the grouping columns after groupby to silence this warning.\n",
      "  df = df.groupby('season', group_keys=False).apply(calculate_win_percentage_for_season)\n"
     ]
    }
   ],
   "source": [
    "import pandas as pd\n",
    "\n",
    "# Load the dataset\n",
    "input_file = \"basketball_games_with_season.csv\"  # Replace with your file path\n",
    "output_file = \"basketball_games_with_win_percentage.csv\"\n",
    "\n",
    "# Read the data into a DataFrame\n",
    "df = pd.read_csv(input_file)\n",
    "\n",
    "# Convert the `date` column to datetime format\n",
    "df['date'] = pd.to_datetime(df['date'])\n",
    "\n",
    "# Sort the data by season and date\n",
    "df = df.sort_values(by=['season', 'date']).reset_index(drop=True)\n",
    "\n",
    "# Function to calculate win percentages for a single season\n",
    "def calculate_win_percentage_for_season(season_df):\n",
    "    # Initialize team stats for the season\n",
    "    team_stats = {}\n",
    "    \n",
    "    # Function to calculate dynamic win percentage\n",
    "    def calculate_win_percentage(row):\n",
    "        nonlocal team_stats\n",
    "\n",
    "        # Extract teams\n",
    "        home_team = row['homeTeam']\n",
    "        away_team = row['awayTeam']\n",
    "        winner = row['winner']\n",
    "\n",
    "        # Initialize teams in the stats dictionary if not already present\n",
    "        for team in [home_team, away_team]:\n",
    "            if team not in team_stats:\n",
    "                team_stats[team] = {'wins': 0, 'games': 0}\n",
    "\n",
    "        # Update games played for both teams\n",
    "        team_stats[home_team]['games'] += 1\n",
    "        team_stats[away_team]['games'] += 1\n",
    "\n",
    "        # Update wins for the winner\n",
    "        if winner == home_team:\n",
    "            team_stats[home_team]['wins'] += 1\n",
    "        elif winner == away_team:\n",
    "            team_stats[away_team]['wins'] += 1\n",
    "\n",
    "        # Calculate win percentage for both teams\n",
    "        home_win_pct = (team_stats[home_team]['wins'] / team_stats[home_team]['games']) * 100\n",
    "        away_win_pct = (team_stats[away_team]['wins'] / team_stats[away_team]['games']) * 100\n",
    "\n",
    "        return pd.Series([home_win_pct, away_win_pct])\n",
    "\n",
    "    # Apply the calculation to the season's DataFrame\n",
    "    season_df[['homeWinPct', 'awayWinPct']] = season_df.apply(calculate_win_percentage, axis=1)\n",
    "    return season_df\n",
    "\n",
    "# Apply the win percentage calculation for each season\n",
    "df = df.groupby('season', group_keys=False).apply(calculate_win_percentage_for_season)\n",
    "\n",
    "# Save the updated dataset\n",
    "df.to_csv(output_file, index=False)\n",
    "\n",
    "print(f\"Dataset updated with dynamic win percentages (resetting each season) and saved to {output_file}\")"
   ]
  },
  {
   "cell_type": "code",
   "execution_count": 9,
   "metadata": {},
   "outputs": [
    {
     "name": "stderr",
     "output_type": "stream",
     "text": [
      "/var/folders/v3/tynf_31524q1s5y0t260lswr0000gn/T/ipykernel_42777/497013212.py:8: DtypeWarning: Columns (3) have mixed types. Specify dtype option on import or set low_memory=False.\n",
      "  df = pd.read_csv(input_file)\n",
      "/var/folders/v3/tynf_31524q1s5y0t260lswr0000gn/T/ipykernel_42777/497013212.py:36: DeprecationWarning: DataFrameGroupBy.apply operated on the grouping columns. This behavior is deprecated, and in a future version of pandas the grouping columns will be excluded from the operation. Either pass `include_groups=False` to exclude the groupings or explicitly select the grouping columns after groupby to silence this warning.\n",
      "  df = df.groupby('season', group_keys=False).apply(classify_playoff_games)\n"
     ]
    },
    {
     "name": "stdout",
     "output_type": "stream",
     "text": [
      "Dataset updated with 'isPlayoffGame' column and saved to NBADatawithWinandPlayoff.csv\n"
     ]
    }
   ],
   "source": [
    "import pandas as pd\n",
    "\n",
    "# Load the dataset\n",
    "input_file = \"basketball_games_with_win_percentage.csv\"  # Replace with your file path\n",
    "output_file = \"NBADatawithWinandPlayoff.csv\"\n",
    "\n",
    "# Read the data into a DataFrame\n",
    "df = pd.read_csv(input_file)\n",
    "\n",
    "# Convert the `date` column to datetime format\n",
    "df['date'] = pd.to_datetime(df['date'])\n",
    "\n",
    "# Sort the data by season and date\n",
    "df = df.sort_values(by=['season', 'date']).reset_index(drop=True)\n",
    "\n",
    "# Function to classify playoff games\n",
    "def classify_playoff_games(season_df):\n",
    "    # Get the current season\n",
    "    season = season_df['season'].iloc[0]\n",
    "    \n",
    "    # Determine total regular-season games for the season\n",
    "    if season == \"2020-21\":\n",
    "        total_regular_season_games = 1080  # 72 games per team\n",
    "    elif season == \"2019-20\":\n",
    "        total_regular_season_games = 971  # COVID-shortened season\n",
    "    else:\n",
    "        total_regular_season_games = 1230  # Full regular season (82 games per team)\n",
    "    \n",
    "    # Add a game number column for the season\n",
    "    season_df['gameNumber'] = range(1, len(season_df) + 1)\n",
    "    # Classify games as playoffs if they occur after the regular season\n",
    "    season_df['isPlayoffGame'] = season_df['gameNumber'] > total_regular_season_games\n",
    "    return season_df\n",
    "\n",
    "# Apply the playoff classification for each season\n",
    "df = df.groupby('season', group_keys=False).apply(classify_playoff_games)\n",
    "\n",
    "# Save the updated dataset\n",
    "df.to_csv(output_file, index=False)\n",
    "\n",
    "print(f\"Dataset updated with 'isPlayoffGame' column and saved to {output_file}\")"
   ]
  },
  {
   "cell_type": "code",
   "execution_count": 10,
   "metadata": {},
   "outputs": [
    {
     "name": "stderr",
     "output_type": "stream",
     "text": [
      "/var/folders/v3/tynf_31524q1s5y0t260lswr0000gn/T/ipykernel_42777/2712533856.py:8: DtypeWarning: Columns (3) have mixed types. Specify dtype option on import or set low_memory=False.\n",
      "  df = pd.read_csv(input_file)\n",
      "/var/folders/v3/tynf_31524q1s5y0t260lswr0000gn/T/ipykernel_42777/2712533856.py:59: DeprecationWarning: DataFrameGroupBy.apply operated on the grouping columns. This behavior is deprecated, and in a future version of pandas the grouping columns will be excluded from the operation. Either pass `include_groups=False` to exclude the groupings or explicitly select the grouping columns after groupby to silence this warning.\n",
      "  df = df.groupby('season', group_keys=False).apply(calculate_win_loss)\n"
     ]
    },
    {
     "name": "stdout",
     "output_type": "stream",
     "text": [
      "Dataset updated with dynamic win/loss columns and saved to nbsDataAllScrapedInfo.csv\n"
     ]
    }
   ],
   "source": [
    "import pandas as pd\n",
    "\n",
    "# Load the dataset\n",
    "input_file = \"NBADatawithWinandPlayoff.csv\"  # Replace with your file path\n",
    "output_file = \"nbsDataAllScrapedInfo.csv\"\n",
    "\n",
    "# Read the data into a DataFrame\n",
    "df = pd.read_csv(input_file)\n",
    "\n",
    "# Convert the `date` column to datetime format\n",
    "df['date'] = pd.to_datetime(df['date'])\n",
    "\n",
    "# Sort the data by season and date\n",
    "df = df.sort_values(by=['season', 'date']).reset_index(drop=True)\n",
    "\n",
    "# Function to calculate win/loss records dynamically\n",
    "def calculate_win_loss(season_df):\n",
    "    # Initialize dictionaries to track wins and losses\n",
    "    win_counts = {}\n",
    "    loss_counts = {}\n",
    "\n",
    "    # Columns to store wins and losses\n",
    "    season_df['homeWins'] = 0\n",
    "    season_df['homeLosses'] = 0\n",
    "    season_df['awayWins'] = 0\n",
    "    season_df['awayLosses'] = 0\n",
    "\n",
    "    # Iterate over each game in the season\n",
    "    for idx, row in season_df.iterrows():\n",
    "        home_team = row['homeTeam']\n",
    "        away_team = row['awayTeam']\n",
    "        winner = row['winner']\n",
    "\n",
    "        # Initialize win/loss counts for teams if not already present\n",
    "        if home_team not in win_counts:\n",
    "            win_counts[home_team] = 0\n",
    "            loss_counts[home_team] = 0\n",
    "        if away_team not in win_counts:\n",
    "            win_counts[away_team] = 0\n",
    "            loss_counts[away_team] = 0\n",
    "\n",
    "        # Update win/loss counts based on the winner\n",
    "        if winner == home_team:\n",
    "            win_counts[home_team] += 1\n",
    "            loss_counts[away_team] += 1\n",
    "        elif winner == away_team:\n",
    "            win_counts[away_team] += 1\n",
    "            loss_counts[home_team] += 1\n",
    "\n",
    "        # Assign current win/loss counts to the DataFrame\n",
    "        season_df.at[idx, 'homeWins'] = win_counts[home_team]\n",
    "        season_df.at[idx, 'homeLosses'] = loss_counts[home_team]\n",
    "        season_df.at[idx, 'awayWins'] = win_counts[away_team]\n",
    "        season_df.at[idx, 'awayLosses'] = loss_counts[away_team]\n",
    "\n",
    "    return season_df\n",
    "\n",
    "# Apply the win/loss calculation for each season\n",
    "df = df.groupby('season', group_keys=False).apply(calculate_win_loss)\n",
    "\n",
    "# Save the updated dataset\n",
    "df.to_csv(output_file, index=False)\n",
    "\n",
    "print(f\"Dataset updated with dynamic win/loss columns and saved to {output_file}\")"
   ]
  }
 ],
 "metadata": {
  "kernelspec": {
   "display_name": "ml",
   "language": "python",
   "name": "python3"
  },
  "language_info": {
   "codemirror_mode": {
    "name": "ipython",
    "version": 3
   },
   "file_extension": ".py",
   "mimetype": "text/x-python",
   "name": "python",
   "nbconvert_exporter": "python",
   "pygments_lexer": "ipython3",
   "version": "3.12.4"
  }
 },
 "nbformat": 4,
 "nbformat_minor": 2
}
